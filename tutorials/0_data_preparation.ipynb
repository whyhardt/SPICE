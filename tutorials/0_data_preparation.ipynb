{
 "cells": [
  {
   "cell_type": "markdown",
   "metadata": {},
   "source": [
    "# Data Preparation Tutorial\n",
    "\n",
    "This tutorial demonstrates how to prepare and process data for use with SPICE. We'll cover:\n",
    "\n",
    "1. Basic data format requirements\n",
    "2. Converting raw data to SPICE format\n",
    "3. Creating synthetic datasets\n",
    "4. Working with different data types\n",
    "5. Common data preprocessing steps\n",
    "\n",
    "## Prerequisites\n",
    "\n",
    "Before starting this tutorial, make sure you have:\n",
    "- SPICE installed\n",
    "- Required dependencies (pandas, numpy, etc.)\n",
    "- Basic understanding of reinforcement learning data structure"
   ]
  },
  {
   "cell_type": "code",
   "execution_count": 1,
   "metadata": {},
   "outputs": [
    {
     "name": "stdout",
     "output_type": "stream",
     "text": [
      "Library setup is valid. All keys and features appear in the provided list of features.\n",
      "Library setup is valid. All keys and features appear in the provided list of features.\n",
      "Library setup is valid. All keys and features appear in the provided list of features.\n",
      "Library setup is valid. All keys and features appear in the provided list of features.\n",
      "Library setup is valid. All keys and features appear in the provided list of features.\n"
     ]
    },
    {
     "name": "stderr",
     "output_type": "stream",
     "text": [
      "/home/daniel/miniconda3/envs/spice/lib/python3.11/site-packages/tqdm/auto.py:21: TqdmWarning: IProgress not found. Please update jupyter and ipywidgets. See https://ipywidgets.readthedocs.io/en/stable/user_install.html\n",
      "  from .autonotebook import tqdm as notebook_tqdm\n"
     ]
    }
   ],
   "source": [
    "import sys\n",
    "import os\n",
    "import pandas as pd\n",
    "import numpy as np\n",
    "from spice.resources.bandits import create_dataset, BanditsDrift, get_update_dynamics\n",
    "from spice.resources.rnn_utils import DatasetRNN\n",
    "from spice.utils.plotting import plot_session"
   ]
  },
  {
   "cell_type": "markdown",
   "metadata": {},
   "source": [
    "## 1. Basic Data Format Requirements\n",
    "\n",
    "SPICE expects data in a specific format for training and analysis. The basic requirements are:\n",
    "\n",
    "- Data should be in CSV format\n",
    "- Column names can be customized by setting `df_participant_id`, `df_block`, `df_experiment_id`, `df_choice` and `df_reward`.\n",
    "- Additional inputs can be given as a list of strings (`additional_inputs`) corresponding to column names\n",
    "- Required columns:\n",
    "  - `df_participant_id (default: 'session')`: Unique identifier for each experimental session/participant\n",
    "  - `df_choice (default: 'choice')`: The action taken by the participant (0-indexed)\n",
    "  - `df_reward (default: 'reward')`: The reward received for the action\n",
    "\n",
    "Let's look at an example of properly formatted data:"
   ]
  },
  {
   "cell_type": "code",
   "execution_count": 2,
   "metadata": {},
   "outputs": [
    {
     "name": "stdout",
     "output_type": "stream",
     "text": [
      "Sample data format:\n"
     ]
    },
    {
     "data": {
      "application/vnd.microsoft.datawrangler.viewer.v0+json": {
       "columns": [
        {
         "name": "index",
         "rawType": "int64",
         "type": "integer"
        },
        {
         "name": "session",
         "rawType": "int64",
         "type": "integer"
        },
        {
         "name": "choice",
         "rawType": "int64",
         "type": "integer"
        },
        {
         "name": "reward",
         "rawType": "int64",
         "type": "integer"
        },
        {
         "name": "rt",
         "rawType": "float64",
         "type": "float"
        }
       ],
       "ref": "99973f9c-ee16-42ef-95e5-51934f2bed86",
       "rows": [
        [
         "0",
         "1",
         "0",
         "1",
         "0.5"
        ],
        [
         "1",
         "1",
         "1",
         "0",
         "0.6"
        ],
        [
         "2",
         "1",
         "0",
         "1",
         "0.4"
        ],
        [
         "3",
         "2",
         "1",
         "0",
         "0.7"
        ],
        [
         "4",
         "2",
         "0",
         "1",
         "0.5"
        ],
        [
         "5",
         "2",
         "1",
         "0",
         "0.6"
        ]
       ],
       "shape": {
        "columns": 4,
        "rows": 6
       }
      },
      "text/html": [
       "<div>\n",
       "<style scoped>\n",
       "    .dataframe tbody tr th:only-of-type {\n",
       "        vertical-align: middle;\n",
       "    }\n",
       "\n",
       "    .dataframe tbody tr th {\n",
       "        vertical-align: top;\n",
       "    }\n",
       "\n",
       "    .dataframe thead th {\n",
       "        text-align: right;\n",
       "    }\n",
       "</style>\n",
       "<table border=\"1\" class=\"dataframe\">\n",
       "  <thead>\n",
       "    <tr style=\"text-align: right;\">\n",
       "      <th></th>\n",
       "      <th>session</th>\n",
       "      <th>choice</th>\n",
       "      <th>reward</th>\n",
       "      <th>rt</th>\n",
       "    </tr>\n",
       "  </thead>\n",
       "  <tbody>\n",
       "    <tr>\n",
       "      <th>0</th>\n",
       "      <td>1</td>\n",
       "      <td>0</td>\n",
       "      <td>1</td>\n",
       "      <td>0.5</td>\n",
       "    </tr>\n",
       "    <tr>\n",
       "      <th>1</th>\n",
       "      <td>1</td>\n",
       "      <td>1</td>\n",
       "      <td>0</td>\n",
       "      <td>0.6</td>\n",
       "    </tr>\n",
       "    <tr>\n",
       "      <th>2</th>\n",
       "      <td>1</td>\n",
       "      <td>0</td>\n",
       "      <td>1</td>\n",
       "      <td>0.4</td>\n",
       "    </tr>\n",
       "    <tr>\n",
       "      <th>3</th>\n",
       "      <td>2</td>\n",
       "      <td>1</td>\n",
       "      <td>0</td>\n",
       "      <td>0.7</td>\n",
       "    </tr>\n",
       "    <tr>\n",
       "      <th>4</th>\n",
       "      <td>2</td>\n",
       "      <td>0</td>\n",
       "      <td>1</td>\n",
       "      <td>0.5</td>\n",
       "    </tr>\n",
       "    <tr>\n",
       "      <th>5</th>\n",
       "      <td>2</td>\n",
       "      <td>1</td>\n",
       "      <td>0</td>\n",
       "      <td>0.6</td>\n",
       "    </tr>\n",
       "  </tbody>\n",
       "</table>\n",
       "</div>"
      ],
      "text/plain": [
       "   session  choice  reward   rt\n",
       "0        1       0       1  0.5\n",
       "1        1       1       0  0.6\n",
       "2        1       0       1  0.4\n",
       "3        2       1       0  0.7\n",
       "4        2       0       1  0.5\n",
       "5        2       1       0  0.6"
      ]
     },
     "metadata": {},
     "output_type": "display_data"
    }
   ],
   "source": [
    "# Create a sample dataset\n",
    "sample_data = {\n",
    "    'session': [1, 1, 1, 2, 2, 2],\n",
    "    'choice': [0, 1, 0, 1, 0, 1],\n",
    "    'reward': [1, 0, 1, 0, 1, 0],\n",
    "    'rt': [0.5, 0.6, 0.4, 0.7, 0.5, 0.6]\n",
    "}\n",
    "\n",
    "df = pd.DataFrame(sample_data)\n",
    "print(\"Sample data format:\")\n",
    "display(df)"
   ]
  },
  {
   "cell_type": "markdown",
   "metadata": {},
   "source": [
    "Let's save it as a .csv file."
   ]
  },
  {
   "cell_type": "code",
   "execution_count": 3,
   "metadata": {},
   "outputs": [],
   "source": [
    "df.to_csv('sample_data.csv', index=False)"
   ]
  },
  {
   "cell_type": "markdown",
   "metadata": {},
   "source": [
    "## 2. Converting Experimental Data to SPICE Format\n",
    "\n",
    "Often, your raw data might not be in the exact format SPICE expects. Here's how to convert it:"
   ]
  },
  {
   "cell_type": "code",
   "execution_count": 4,
   "metadata": {},
   "outputs": [],
   "source": [
    "from spice.utils.convert_dataset import convert_dataset\n",
    "\n",
    "dataset, experiment_list, df, dynamics = convert_dataset(file='sample_data.csv')"
   ]
  },
  {
   "cell_type": "code",
   "execution_count": 5,
   "metadata": {},
   "outputs": [
    {
     "name": "stdout",
     "output_type": "stream",
     "text": [
      "torch.Size([2, 3, 7])\n",
      "torch.Size([2, 3, 2])\n"
     ]
    }
   ],
   "source": [
    "print(dataset.xs.shape)\n",
    "print(dataset.ys.shape)"
   ]
  },
  {
   "cell_type": "markdown",
   "metadata": {},
   "source": [
    "## 3. Creating Synthetic Datasets\n",
    "\n",
    "SPICE provides utilities to create synthetic datasets for testing and validation. Here's how to create a synthetic dataset using a simple bandit task:"
   ]
  },
  {
   "cell_type": "code",
   "execution_count": 6,
   "metadata": {},
   "outputs": [
    {
     "name": "stdout",
     "output_type": "stream",
     "text": [
      "Creating dataset...\n"
     ]
    },
    {
     "name": "stderr",
     "output_type": "stream",
     "text": [
      "100%|██████████| 2/2 [00:00<00:00, 446.54it/s]"
     ]
    },
    {
     "name": "stdout",
     "output_type": "stream",
     "text": [
      "Synthetic dataset:\n"
     ]
    },
    {
     "name": "stderr",
     "output_type": "stream",
     "text": [
      "\n"
     ]
    },
    {
     "data": {
      "application/vnd.microsoft.datawrangler.viewer.v0+json": {
       "columns": [
        {
         "name": "index",
         "rawType": "int64",
         "type": "integer"
        },
        {
         "name": "session",
         "rawType": "int64",
         "type": "integer"
        },
        {
         "name": "choice",
         "rawType": "int64",
         "type": "integer"
        },
        {
         "name": "reward",
         "rawType": "float32",
         "type": "float"
        }
       ],
       "ref": "049bb96e-f837-43ae-9a1d-13fedec8abad",
       "rows": [
        [
         "0",
         "0",
         "0",
         "1.0"
        ],
        [
         "1",
         "0",
         "0",
         "0.0"
        ],
        [
         "2",
         "0",
         "1",
         "0.0"
        ],
        [
         "3",
         "0",
         "0",
         "1.0"
        ],
        [
         "4",
         "0",
         "0",
         "1.0"
        ],
        [
         "5",
         "0",
         "0",
         "0.0"
        ],
        [
         "6",
         "0",
         "0",
         "0.0"
        ],
        [
         "7",
         "0",
         "1",
         "0.0"
        ],
        [
         "8",
         "0",
         "0",
         "1.0"
        ],
        [
         "9",
         "0",
         "0",
         "0.0"
        ],
        [
         "10",
         "1",
         "0",
         "0.0"
        ],
        [
         "11",
         "1",
         "1",
         "0.0"
        ],
        [
         "12",
         "1",
         "0",
         "1.0"
        ],
        [
         "13",
         "1",
         "0",
         "1.0"
        ],
        [
         "14",
         "1",
         "0",
         "1.0"
        ],
        [
         "15",
         "1",
         "0",
         "0.0"
        ],
        [
         "16",
         "1",
         "0",
         "1.0"
        ],
        [
         "17",
         "1",
         "0",
         "1.0"
        ],
        [
         "18",
         "1",
         "0",
         "1.0"
        ],
        [
         "19",
         "1",
         "0",
         "0.0"
        ]
       ],
       "shape": {
        "columns": 3,
        "rows": 20
       }
      },
      "text/html": [
       "<div>\n",
       "<style scoped>\n",
       "    .dataframe tbody tr th:only-of-type {\n",
       "        vertical-align: middle;\n",
       "    }\n",
       "\n",
       "    .dataframe tbody tr th {\n",
       "        vertical-align: top;\n",
       "    }\n",
       "\n",
       "    .dataframe thead th {\n",
       "        text-align: right;\n",
       "    }\n",
       "</style>\n",
       "<table border=\"1\" class=\"dataframe\">\n",
       "  <thead>\n",
       "    <tr style=\"text-align: right;\">\n",
       "      <th></th>\n",
       "      <th>session</th>\n",
       "      <th>choice</th>\n",
       "      <th>reward</th>\n",
       "    </tr>\n",
       "  </thead>\n",
       "  <tbody>\n",
       "    <tr>\n",
       "      <th>0</th>\n",
       "      <td>0</td>\n",
       "      <td>0</td>\n",
       "      <td>1.0</td>\n",
       "    </tr>\n",
       "    <tr>\n",
       "      <th>1</th>\n",
       "      <td>0</td>\n",
       "      <td>0</td>\n",
       "      <td>0.0</td>\n",
       "    </tr>\n",
       "    <tr>\n",
       "      <th>2</th>\n",
       "      <td>0</td>\n",
       "      <td>1</td>\n",
       "      <td>0.0</td>\n",
       "    </tr>\n",
       "    <tr>\n",
       "      <th>3</th>\n",
       "      <td>0</td>\n",
       "      <td>0</td>\n",
       "      <td>1.0</td>\n",
       "    </tr>\n",
       "    <tr>\n",
       "      <th>4</th>\n",
       "      <td>0</td>\n",
       "      <td>0</td>\n",
       "      <td>1.0</td>\n",
       "    </tr>\n",
       "    <tr>\n",
       "      <th>5</th>\n",
       "      <td>0</td>\n",
       "      <td>0</td>\n",
       "      <td>0.0</td>\n",
       "    </tr>\n",
       "    <tr>\n",
       "      <th>6</th>\n",
       "      <td>0</td>\n",
       "      <td>0</td>\n",
       "      <td>0.0</td>\n",
       "    </tr>\n",
       "    <tr>\n",
       "      <th>7</th>\n",
       "      <td>0</td>\n",
       "      <td>1</td>\n",
       "      <td>0.0</td>\n",
       "    </tr>\n",
       "    <tr>\n",
       "      <th>8</th>\n",
       "      <td>0</td>\n",
       "      <td>0</td>\n",
       "      <td>1.0</td>\n",
       "    </tr>\n",
       "    <tr>\n",
       "      <th>9</th>\n",
       "      <td>0</td>\n",
       "      <td>0</td>\n",
       "      <td>0.0</td>\n",
       "    </tr>\n",
       "    <tr>\n",
       "      <th>10</th>\n",
       "      <td>1</td>\n",
       "      <td>0</td>\n",
       "      <td>0.0</td>\n",
       "    </tr>\n",
       "    <tr>\n",
       "      <th>11</th>\n",
       "      <td>1</td>\n",
       "      <td>1</td>\n",
       "      <td>0.0</td>\n",
       "    </tr>\n",
       "    <tr>\n",
       "      <th>12</th>\n",
       "      <td>1</td>\n",
       "      <td>0</td>\n",
       "      <td>1.0</td>\n",
       "    </tr>\n",
       "    <tr>\n",
       "      <th>13</th>\n",
       "      <td>1</td>\n",
       "      <td>0</td>\n",
       "      <td>1.0</td>\n",
       "    </tr>\n",
       "    <tr>\n",
       "      <th>14</th>\n",
       "      <td>1</td>\n",
       "      <td>0</td>\n",
       "      <td>1.0</td>\n",
       "    </tr>\n",
       "    <tr>\n",
       "      <th>15</th>\n",
       "      <td>1</td>\n",
       "      <td>0</td>\n",
       "      <td>0.0</td>\n",
       "    </tr>\n",
       "    <tr>\n",
       "      <th>16</th>\n",
       "      <td>1</td>\n",
       "      <td>0</td>\n",
       "      <td>1.0</td>\n",
       "    </tr>\n",
       "    <tr>\n",
       "      <th>17</th>\n",
       "      <td>1</td>\n",
       "      <td>0</td>\n",
       "      <td>1.0</td>\n",
       "    </tr>\n",
       "    <tr>\n",
       "      <th>18</th>\n",
       "      <td>1</td>\n",
       "      <td>0</td>\n",
       "      <td>1.0</td>\n",
       "    </tr>\n",
       "    <tr>\n",
       "      <th>19</th>\n",
       "      <td>1</td>\n",
       "      <td>0</td>\n",
       "      <td>0.0</td>\n",
       "    </tr>\n",
       "  </tbody>\n",
       "</table>\n",
       "</div>"
      ],
      "text/plain": [
       "    session  choice  reward\n",
       "0         0       0     1.0\n",
       "1         0       0     0.0\n",
       "2         0       1     0.0\n",
       "3         0       0     1.0\n",
       "4         0       0     1.0\n",
       "5         0       0     0.0\n",
       "6         0       0     0.0\n",
       "7         0       1     0.0\n",
       "8         0       0     1.0\n",
       "9         0       0     0.0\n",
       "10        1       0     0.0\n",
       "11        1       1     0.0\n",
       "12        1       0     1.0\n",
       "13        1       0     1.0\n",
       "14        1       0     1.0\n",
       "15        1       0     0.0\n",
       "16        1       0     1.0\n",
       "17        1       0     1.0\n",
       "18        1       0     1.0\n",
       "19        1       0     0.0"
      ]
     },
     "metadata": {},
     "output_type": "display_data"
    }
   ],
   "source": [
    "from spice.resources.bandits import AgentQ\n",
    "\n",
    "# Create a simple Q-learning agent\n",
    "agent = AgentQ(\n",
    "    beta_reward=1.0,\n",
    "    alpha_reward=0.5,\n",
    "    alpha_penalty=0.5\n",
    ")\n",
    "\n",
    "# Create environment\n",
    "environment = BanditsDrift(sigma=0.2)\n",
    "\n",
    "# Generate synthetic data\n",
    "n_sessions = 2\n",
    "n_trials = 10\n",
    "\n",
    "dataset, experiments, _ = create_dataset(\n",
    "    agent=agent,\n",
    "    environment=environment,\n",
    "    n_trials=n_trials,\n",
    "    n_sessions=n_sessions,\n",
    "    verbose=False\n",
    ")\n",
    "\n",
    "# Convert to DataFrame\n",
    "synthetic_data = []\n",
    "for i in range(len(dataset)):\n",
    "    experiment = dataset.xs[i].numpy()\n",
    "    session_data = pd.DataFrame({\n",
    "        'session': [i] * n_trials,\n",
    "        'choice': np.argmax(experiment[:, :2], axis=1),\n",
    "        'reward': np.max(experiment[:, 2:4], axis=1)\n",
    "    })\n",
    "    synthetic_data.append(session_data)\n",
    "\n",
    "synthetic_df = pd.concat(synthetic_data, ignore_index=True)\n",
    "print(\"Synthetic dataset:\")\n",
    "display(synthetic_df)"
   ]
  },
  {
   "cell_type": "markdown",
   "metadata": {},
   "source": [
    "Let's remove the generated file again"
   ]
  },
  {
   "cell_type": "code",
   "execution_count": 7,
   "metadata": {},
   "outputs": [],
   "source": [
    "import os\n",
    "\n",
    "os.remove('sample_data.csv')"
   ]
  }
 ],
 "metadata": {
  "kernelspec": {
   "display_name": "spice",
   "language": "python",
   "name": "python3"
  },
  "language_info": {
   "codemirror_mode": {
    "name": "ipython",
    "version": 3
   },
   "file_extension": ".py",
   "mimetype": "text/x-python",
   "name": "python",
   "nbconvert_exporter": "python",
   "pygments_lexer": "ipython3",
   "version": "3.11.13"
  }
 },
 "nbformat": 4,
 "nbformat_minor": 4
}
