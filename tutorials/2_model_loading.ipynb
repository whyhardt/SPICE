{
 "cells": [
  {
   "cell_type": "markdown",
   "id": "dd843d0e",
   "metadata": {},
   "source": [
    "Tutorial about loading saved checkpoints and reusing them for e.g. analyses"
   ]
  },
  {
   "cell_type": "code",
   "execution_count": null,
   "id": "5c063f15",
   "metadata": {
    "vscode": {
     "languageId": "plaintext"
    }
   },
   "outputs": [],
   "source": [
    "from spice.utils.setup_agents import setup_agent_rnn, setup_agent_spice"
   ]
  }
 ],
 "metadata": {
  "language_info": {
   "name": "python"
  }
 },
 "nbformat": 4,
 "nbformat_minor": 5
}
