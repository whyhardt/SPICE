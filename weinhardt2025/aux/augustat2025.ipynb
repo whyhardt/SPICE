{
  "cells": [
    {
      "cell_type": "code",
      "execution_count": 1,
      "metadata": {
        "colab": {
          "base_uri": "https://localhost:8080/"
        },
        "id": "tf7jlYw4NA0v",
        "outputId": "0969ca34-675d-422e-cbfb-7387d9bcd8ad"
      },
      "outputs": [],
      "source": [
        "#!git clone https://github.com/whyhardt/SPICE.git"
      ]
    },
    {
      "cell_type": "code",
      "execution_count": 2,
      "metadata": {
        "colab": {
          "base_uri": "https://localhost:8080/",
          "height": 1000
        },
        "id": "oXIbg826NS5i",
        "outputId": "3825864a-cb2d-4ad5-f2e5-79a4e81dfc3e"
      },
      "outputs": [],
      "source": [
        "# !pip install -e SPICE"
      ]
    },
    {
      "cell_type": "code",
      "execution_count": 3,
      "metadata": {
        "id": "f0uVlABYznR5"
      },
      "outputs": [],
      "source": [
        "import pandas as pd\n",
        "import numpy as np\n",
        "from typing import Dict, List, Tuple\n",
        "import matplotlib.pyplot as plt\n",
        "\n",
        "from spice.estimator import SpiceEstimator\n",
        "from spice.resources.spice_utils import SpiceConfig\n",
        "from spice.utils.convert_dataset import convert_dataset\n",
        "from spice.resources.rnn import BaseRNN\n",
        "\n",
        "# For custom RNN\n",
        "import torch\n",
        "import torch.nn as nn"
      ]
    },
    {
      "cell_type": "markdown",
      "metadata": {},
      "source": [
        "Let's load the data first with the `convert_dataset` method. This method returns a `SpiceDataset` object which we can use right away "
      ]
    },
    {
      "cell_type": "code",
      "execution_count": 4,
      "metadata": {},
      "outputs": [
        {
          "name": "stdout",
          "output_type": "stream",
          "text": [
            "Shape of dataset: torch.Size([277, 300, 9])\n",
            "Number of participants: 277\n",
            "Number of actions in dataset: 2\n",
            "Number of additional inputs: 2\n"
          ]
        }
      ],
      "source": [
        "# Load your data\n",
        "dataset = convert_dataset(\n",
        "    file = '../data/augustat2025/augustat2025.csv',\n",
        "    df_participant_id='participant_id',\n",
        "    df_choice='choice',\n",
        "    df_reward='reward',\n",
        "    additional_inputs=['shown_at_0', 'shown_at_1'],\n",
        "    )[0]\n",
        "\n",
        "# structure of dataset:\n",
        "# dataset has two main attributes: xs -> inputs; ys -> targets (next action)\n",
        "# shape: (n_participants*n_blocks*n_experiments, n_timesteps, features)\n",
        "# features are (n_actions * action, n_actions * reward, n_additional_inputs * additional_input, block_number, experiment_id, participant_id)\n",
        "\n",
        "# in order to set up the participant embedding we have to compute the number of unique participants in our data \n",
        "# to get the number of participants n_participants we do:\n",
        "n_participants = len(dataset.xs[..., -1].unique())\n",
        "\n",
        "print(f\"Shape of dataset: {dataset.xs.shape}\")\n",
        "print(f\"Number of participants: {n_participants}\")\n",
        "n_actions = dataset.ys.shape[-1]\n",
        "print(f\"Number of actions in dataset: {n_actions}\")\n",
        "print(f\"Number of additional inputs: {dataset.xs.shape[-1]-2*n_actions-3}\")"
      ]
    },
    {
      "cell_type": "markdown",
      "metadata": {},
      "source": [
        "Now we are going to define the configuration for SPICE with a `SpiceConfig` object.\n",
        "\n",
        "The `SpiceConfig` takes as arguments \n",
        "1. `library_setup (dict)`: Defining the variable names of each module.\n",
        "2. `memory_state (dict)`: Defining the memory state variables and their initial values.\n",
        "3. `states_in_logit (list)`: Defining which of the memory state variables are used later for the logit computation. This is necessary for some background processes.  "
      ]
    },
    {
      "cell_type": "code",
      "execution_count": 5,
      "metadata": {},
      "outputs": [],
      "source": [
        "spice_config = SpiceConfig(\n",
        "    library_setup={\n",
        "        'value_reward_chosen': ['reward'],\n",
        "        'value_reward_not_chosen': [],\n",
        "        'value_reward_not_displayed': [],\n",
        "    },\n",
        "    \n",
        "    memory_state={\n",
        "        'value_reward': 0,\n",
        "        },\n",
        ")"
      ]
    },
    {
      "cell_type": "markdown",
      "metadata": {},
      "source": [
        "And now we are going to define the SPICE model which is a child of the `BaseRNN` and `torch.nn.Module` class and takes as required arguments:\n",
        "1. `spice_config (SpiceConfig)`: previously defined SpiceConfig object\n",
        "2. `n_actions (int)`: number of possible actions in your dataset (including non-displayed ones if applicable).\n",
        "3. `n_participants (int)`: number of participants in your dataset.\n",
        "\n",
        "As usual for a `torch.nn.Module` we have to define at least the `__init__` method and the `forward` method.\n",
        "The `forward` method gets called when computing a forward pass through the model and takes as inputs `(inputs (SpiceDataset.xs), prev_state (dict, default: None), batch_first (bool, default: False))` and returns `(logits (torch.Tensor, shape: (n_participants*n_blocks*n_experiments, timesteps, n_actions)), updated_state (dict))`. Two necessary method calls inside the forward pass are:\n",
        "1. `self.init_forward_pass(inputs, prev_state, batch_first) -> SpiceSignals`: returns a `SpiceSignals` object which carries all relevant information already processed.\n",
        "2. `self.post_forward_pass(SpiceSignals, batch_first) -> SpiceSignals`: does some re-arranging of the logits to adhere to `batch_first`."
      ]
    },
    {
      "cell_type": "code",
      "execution_count": 6,
      "metadata": {
        "id": "z0kOR2Qgz0FZ"
      },
      "outputs": [],
      "source": [
        "class SPICERNN(BaseRNN):\n",
        "    \n",
        "    def __init__(self, n_actions, spice_config, n_participants, n_items, **kwargs):\n",
        "        super().__init__(n_actions=n_actions, spice_config=spice_config, n_participants=n_participants, n_items=n_items, embedding_size=32)\n",
        "        \n",
        "        # participant embedding\n",
        "        self.participant_embedding = self.setup_embedding(num_embeddings=n_participants, embedding_size=self.embedding_size, dropout=0.)\n",
        "        \n",
        "        # rnn modules\n",
        "        # reward-based modules\n",
        "        self.submodules_rnn['value_reward_chosen'] = self.setup_module(1+self.embedding_size)\n",
        "        self.submodules_rnn['value_reward_not_chosen'] = self.setup_module(self.embedding_size)\n",
        "        self.submodules_rnn['value_reward_not_displayed'] = self.setup_module(self.embedding_size)\n",
        "        # choice-based modules (reward-agnostic; can encode e.g. choice perseverance)\n",
        "        # ...\n",
        "        \n",
        "        # inverse noise temperatures\n",
        "        self.betas['value_reward'] = self.setup_constant(embedding_size=self.embedding_size)\n",
        "    \n",
        "    def transform_signals_to_item_space(self, actions, rewards, shown_at_0, shown_at_1):\n",
        "        \"\"\"Transform actions, rewards, and additional inputs from the action space into the item space\"\"\"\n",
        "        nan_mask = actions[..., 0].isnan()\n",
        "        \n",
        "        # map the chosen and not chosen actions to the symbol numbers\n",
        "        action_chosen = torch.where(actions.argmax(dim=-1) == 0, shown_at_0, shown_at_1).nan_to_num(0.).long()\n",
        "        action_not_chosen = torch.where(actions.argmin(dim=-1) == 0, shown_at_0, shown_at_1).nan_to_num(0.).long()\n",
        "        \n",
        "        # compute one hot encoded arrays for action_chosen and action_not_chosen\n",
        "        action_chosen_onehot = torch.nn.functional.one_hot(action_chosen, num_classes=self.n_items)\n",
        "        action_chosen_onehot = torch.where(nan_mask.unsqueeze(-1).repeat(1, 1, self.n_items), torch.nan, action_chosen_onehot)\n",
        "        \n",
        "        action_not_chosen_onehot = torch.nn.functional.one_hot(action_not_chosen, num_classes=self.n_items)\n",
        "        action_not_chosen_onehot = torch.where(nan_mask.unsqueeze(-1).repeat(1, 1, self.n_items), torch.nan, action_not_chosen_onehot)\n",
        "        \n",
        "        action_not_displayed_onehot = 1 - (action_chosen_onehot + action_not_chosen_onehot)\n",
        "        \n",
        "        # tansform now the rewards for each item instead of only the displayed positions\n",
        "        rewards_onehot = torch.where(action_chosen_onehot == 1, 1, torch.nan)\n",
        "        rewards_onehot = rewards_onehot * torch.where(actions.argmax(dim=-1) == 0, rewards[..., 0], rewards[..., 1]).unsqueeze(-1)\n",
        "        \n",
        "        # transform shown_at_0 and shown_at_1 to one hot encoded arrays\n",
        "        shown_at_0_bool = torch.nn.functional.one_hot(shown_at_0.nan_to_num(0.).long(), num_classes=self.n_items)\n",
        "        shown_at_0_bool = torch.where(nan_mask.unsqueeze(-1).repeat(1, 1, self.n_items), torch.nan, shown_at_0_bool)\n",
        "        \n",
        "        shown_at_1_bool = torch.nn.functional.one_hot(shown_at_1.nan_to_num(0.).long(), num_classes=self.n_items)\n",
        "        shown_at_1_bool = torch.where(nan_mask.unsqueeze(-1).repeat(1, 1, self.n_items), torch.nan, shown_at_1_bool)\n",
        "        \n",
        "        return action_chosen_onehot, action_not_chosen_onehot, action_not_displayed_onehot, rewards_onehot, shown_at_0_bool, shown_at_1_bool\n",
        "    \n",
        "    def transform_values_to_action_space(self, values, shown_at_0, shown_at_1):\n",
        "      \"\"\"Transform the state values from the item space back into the action space\"\"\"\n",
        "      # values: (batch_size, n_items)\n",
        "      # shown_at_0, shown_at_1: (batch_size, n_items) - one-hot encoded\n",
        "\n",
        "      # Get the indices of the shown items\n",
        "      shown_at_0_idx = shown_at_0.argmax(dim=-1)  # (batch_size,)\n",
        "      shown_at_1_idx = shown_at_1.argmax(dim=-1)  # (batch_size,)\n",
        "\n",
        "      # Use gather to extract the values for the shown items\n",
        "      batch_indices = torch.arange(values.shape[0], device=values.device)\n",
        "      value_at_0 = values[batch_indices, shown_at_0_idx]  # (batch_size,)\n",
        "      value_at_1 = values[batch_indices, shown_at_1_idx]  # (batch_size,)\n",
        "\n",
        "      # Stack them to create action space values\n",
        "      values_action_space = torch.stack([value_at_0, value_at_1], dim=-1)  # (batch_size, n_actions=2)\n",
        "\n",
        "      # Mask out invalid timesteps (where shown_at_0 is all NaN)\n",
        "      valid_mask = ~shown_at_0.sum(dim=-1).isnan()\n",
        "      values_action_space = torch.where(\n",
        "          valid_mask.unsqueeze(-1).expand_as(values_action_space),\n",
        "          values_action_space,\n",
        "          torch.zeros_like(values_action_space)  # Use 0 instead of NaN\n",
        "      )\n",
        "\n",
        "      return values_action_space\n",
        "    \n",
        "    def forward(self, inputs, prev_state, batch_first=False):\n",
        "        \n",
        "        spice_signals = self.init_forward_pass(inputs, prev_state, batch_first)\n",
        "        \n",
        "        # transform actions from positional encoding (0: right, 1: left) -> one hot encoded items\n",
        "        shown_at_0, shown_at_1 = spice_signals.additional_inputs[..., 0]-1, spice_signals.additional_inputs[..., 1]-1\n",
        "        actions_chosen, actions_not_chosen, actions_not_displayed, rewards, shown_at_0, shown_at_1 = self.transform_signals_to_item_space(spice_signals.actions, spice_signals.rewards, shown_at_0, shown_at_1)\n",
        "        \n",
        "        # time-invariant participant features\n",
        "        participant_embeddings = self.participant_embedding(spice_signals.participant_ids)\n",
        "        beta_reward = self.betas['value_reward'](participant_embeddings)\n",
        "        \n",
        "        for timestep in spice_signals.timesteps:\n",
        "            \n",
        "            # update chosen value\n",
        "            self.call_module(\n",
        "                key_module='value_reward_chosen',\n",
        "                key_state='value_reward',\n",
        "                action_mask=actions_chosen[timestep],\n",
        "                inputs=rewards[timestep],\n",
        "                participant_index=spice_signals.participant_ids,\n",
        "                participant_embedding=participant_embeddings,\n",
        "                activation_rnn=torch.nn.functional.sigmoid,\n",
        "            )\n",
        "            \n",
        "            # update not chosen value\n",
        "            self.call_module(\n",
        "                key_module='value_reward_not_chosen',\n",
        "                key_state='value_reward',\n",
        "                action_mask=actions_not_chosen[timestep],\n",
        "                inputs=None,\n",
        "                participant_index=spice_signals.participant_ids,\n",
        "                participant_embedding=participant_embeddings,\n",
        "                activation_rnn=torch.nn.functional.sigmoid,\n",
        "            )\n",
        "            \n",
        "            # update not displayed values\n",
        "            self.call_module(\n",
        "                key_module='value_reward_not_displayed',\n",
        "                key_state='value_reward',\n",
        "                action_mask=actions_not_displayed[timestep],\n",
        "                inputs=None,\n",
        "                participant_index=spice_signals.participant_ids,\n",
        "                participant_embedding=participant_embeddings,\n",
        "                activation_rnn=torch.nn.functional.sigmoid,\n",
        "            )\n",
        "            \n",
        "            # transform logits from item-space to action-space\n",
        "            spice_signals.logits[timestep] = self.transform_values_to_action_space(self.state['value_reward'], shown_at_0[timestep], shown_at_1[timestep]) * beta_reward\n",
        "            \n",
        "        spice_signals = self.post_forward_pass(spice_signals, batch_first)\n",
        "        \n",
        "        return spice_signals.logits, self.get_state()"
      ]
    },
    {
      "cell_type": "markdown",
      "metadata": {},
      "source": [
        "Let's setup now the `SpiceEstimator` object and fit it to the data!"
      ]
    },
    {
      "cell_type": "code",
      "execution_count": 7,
      "metadata": {
        "colab": {
          "base_uri": "https://localhost:8080/",
          "height": 582
        },
        "id": "3EnmDiUMWq6e",
        "outputId": "e53b1bbd-4173-4d2c-bcdc-15832bc31bd7"
      },
      "outputs": [
        {
          "name": "stdout",
          "output_type": "stream",
          "text": [
            "\n",
            "Starting training on cpu...\n",
            "================================================================================\n",
            "\n",
            "Training the RNN...\n",
            "Epoch 10/10 --- L(Train): 0.7108493; Time: 2.33s; Convergence: 2.38e-03\n",
            "Maximum number of training epochs reached.\n",
            "Model did not converge yet.\n",
            "================================================================================\n",
            "Starting second stage SINDy fitting (threshold=0, single model)\n",
            "================================================================================\n",
            "SINDy Stage 2 - Epoch 10/10 --- L(Train): 0.0016816; Time: 0.02s\n",
            "================================================================================\n",
            "Second stage SINDy fitting complete!\n",
            "================================================================================\n",
            "\n",
            "Refitted SPICE model (participant 0):\n",
            "--------------------------------------------------------------------------------\n",
            "value_reward_chosen[t+1] = 0.0234 1 + 0.0012 value_reward_chosen[t] + 0.0021 value_reward_chosen^2 + -0.0026 value_reward_chosen*reward + -0.0018 reward^2 \n",
            "value_reward_not_chosen[t+1] = 0.0205 1 + -0.0025 value_reward_not_chosen[t] + -0.0054 value_reward_not_chosen^2 \n",
            "value_reward_not_displayed[t+1] = 0.0169 1 + -0.0273 value_reward_not_displayed[t] + -0.0311 value_reward_not_displayed^2 \n",
            "beta(value_reward) = -0.0114\n",
            "--------------------------------------------------------------------------------\n",
            "\n",
            "RNN training finished.\n",
            "Training took 23.15 seconds.\n",
            "Saving SPICE model to ../params/augustat2025/spice_augustat2025.pkl...\n",
            "================================================================================\n",
            "\n",
            "Training complete!\n",
            "\n",
            "Example SPICE model (participant 0):\n",
            "--------------------------------------------------------------------------------\n",
            "value_reward_chosen[t+1] = 0.0234 1 + 0.0012 value_reward_chosen[t] + 0.0021 value_reward_chosen^2 + -0.0026 value_reward_chosen*reward + -0.0018 reward^2 \n",
            "value_reward_not_chosen[t+1] = 0.0205 1 + -0.0025 value_reward_not_chosen[t] + -0.0054 value_reward_not_chosen^2 \n",
            "value_reward_not_displayed[t+1] = 0.0169 1 + -0.0273 value_reward_not_displayed[t] + -0.0311 value_reward_not_displayed^2 \n",
            "beta(value_reward) = -0.0114\n",
            "--------------------------------------------------------------------------------\n"
          ]
        }
      ],
      "source": [
        "estimator = SpiceEstimator(\n",
        "        # model paramaeters\n",
        "        rnn_class=SPICERNN,\n",
        "        spice_config=spice_config,\n",
        "        n_actions=2,\n",
        "        n_items=6,\n",
        "        n_participants=n_participants,\n",
        "        n_experiments=1,\n",
        "        \n",
        "        # training parameters\n",
        "        epochs=10,\n",
        "        l2_weight_decay=0.01,\n",
        "        sindy_epochs=10,\n",
        "        sindy_threshold=0.1,\n",
        "        sindy_threshold_frequency=100,\n",
        "        sindy_weight=0.01,\n",
        "        sindy_library_polynomial_degree=2,\n",
        "        verbose=True,\n",
        "        save_path_spice='../params/augustat2025/spice_augustat2025.pkl',\n",
        "    )\n",
        "\n",
        "print(f\"\\nStarting training on {estimator.device}...\")\n",
        "print(\"=\" * 80)\n",
        "estimator.fit(dataset.xs, dataset.ys)\n",
        "# estimator.load_spice(args.model)\n",
        "print(\"=\" * 80)\n",
        "print(\"\\nTraining complete!\")\n",
        "\n",
        "# Print example SPICE model for first participant\n",
        "print(\"\\nExample SPICE model (participant 0):\")\n",
        "print(\"-\" * 80)\n",
        "estimator.print_spice_model(participant_id=0)\n",
        "print(\"-\" * 80)"
      ]
    },
    {
      "cell_type": "code",
      "execution_count": null,
      "metadata": {},
      "outputs": [],
      "source": []
    }
  ],
  "metadata": {
    "accelerator": "GPU",
    "colab": {
      "gpuType": "T4",
      "provenance": []
    },
    "kernelspec": {
      "display_name": "spice",
      "language": "python",
      "name": "python3"
    },
    "language_info": {
      "codemirror_mode": {
        "name": "ipython",
        "version": 3
      },
      "file_extension": ".py",
      "mimetype": "text/x-python",
      "name": "python",
      "nbconvert_exporter": "python",
      "pygments_lexer": "ipython3",
      "version": "3.11.13"
    }
  },
  "nbformat": 4,
  "nbformat_minor": 0
}
