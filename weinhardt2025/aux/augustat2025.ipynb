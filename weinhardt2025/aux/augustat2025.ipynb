{
  "cells": [
    {
      "cell_type": "code",
      "execution_count": 1,
      "metadata": {
        "colab": {
          "base_uri": "https://localhost:8080/"
        },
        "id": "tf7jlYw4NA0v",
        "outputId": "0969ca34-675d-422e-cbfb-7387d9bcd8ad"
      },
      "outputs": [],
      "source": [
        "#!git clone https://github.com/whyhardt/SPICE.git"
      ]
    },
    {
      "cell_type": "code",
      "execution_count": 2,
      "metadata": {
        "colab": {
          "base_uri": "https://localhost:8080/",
          "height": 1000
        },
        "id": "oXIbg826NS5i",
        "outputId": "3825864a-cb2d-4ad5-f2e5-79a4e81dfc3e"
      },
      "outputs": [],
      "source": [
        "# !pip install -e SPICE"
      ]
    },
    {
      "cell_type": "code",
      "execution_count": 3,
      "metadata": {
        "id": "f0uVlABYznR5"
      },
      "outputs": [],
      "source": [
        "import pandas as pd\n",
        "import numpy as np\n",
        "from typing import Dict, List, Tuple\n",
        "import matplotlib.pyplot as plt\n",
        "\n",
        "from spice.estimator import SpiceEstimator\n",
        "from spice.resources.spice_utils import SpiceConfig\n",
        "from spice.utils.convert_dataset import convert_dataset\n",
        "from spice.resources.rnn import BaseRNN\n",
        "\n",
        "# For custom RNN\n",
        "import torch\n",
        "import torch.nn as nn"
      ]
    },
    {
      "cell_type": "markdown",
      "metadata": {},
      "source": [
        "Let's load the data first with the `convert_dataset` method. This method returns a `SpiceDataset` object which we can use right away "
      ]
    },
    {
      "cell_type": "code",
      "execution_count": 4,
      "metadata": {},
      "outputs": [
        {
          "name": "stdout",
          "output_type": "stream",
          "text": [
            "Shape of dataset: torch.Size([277, 300, 9])\n",
            "Number of participants: 277\n",
            "Number of actions in dataset: 2\n",
            "Number of additional inputs: 2\n"
          ]
        }
      ],
      "source": [
        "# Load your data\n",
        "dataset = convert_dataset(\n",
        "    file = '../data/augustat2025/augustat2025.csv',\n",
        "    df_participant_id='participant_id',\n",
        "    df_choice='choice',\n",
        "    df_reward='reward',\n",
        "    additional_inputs=['shown_at_0', 'shown_at_1'],\n",
        "    )[0]\n",
        "\n",
        "# structure of dataset:\n",
        "# dataset has two main attributes: xs -> inputs; ys -> targets (next action)\n",
        "# shape: (n_participants*n_blocks*n_experiments, n_timesteps, features)\n",
        "# features are (n_actions * action, n_actions * reward, n_additional_inputs * additional_input, block_number, experiment_id, participant_id)\n",
        "\n",
        "# in order to set up the participant embedding we have to compute the number of unique participants in our data \n",
        "# to get the number of participants n_participants we do:\n",
        "n_participants = len(dataset.xs[..., -1].unique())\n",
        "\n",
        "print(f\"Shape of dataset: {dataset.xs.shape}\")\n",
        "print(f\"Number of participants: {n_participants}\")\n",
        "n_actions = dataset.ys.shape[-1]\n",
        "print(f\"Number of actions in dataset: {n_actions}\")\n",
        "print(f\"Number of additional inputs: {dataset.xs.shape[-1]-2*n_actions-3}\")"
      ]
    },
    {
      "cell_type": "markdown",
      "metadata": {},
      "source": [
        "Now we are going to define the configuration for SPICE with a `SpiceConfig` object.\n",
        "\n",
        "The `SpiceConfig` takes as arguments \n",
        "1. `library_setup (dict)`: Defining the variable names of each module.\n",
        "2. `memory_state (dict)`: Defining the memory state variables and their initial values.\n",
        "3. `states_in_logit (list)`: Defining which of the memory state variables are used later for the logit computation. This is necessary for some background processes.  "
      ]
    },
    {
      "cell_type": "code",
      "execution_count": 5,
      "metadata": {},
      "outputs": [],
      "source": [
        "spice_config = SpiceConfig(\n",
        "    library_setup={\n",
        "        'value_reward_chosen': ['reward'],\n",
        "        'value_reward_not_chosen': [],\n",
        "        'value_reward_not_displayed': [],\n",
        "    },\n",
        "    \n",
        "    memory_state={\n",
        "        'value_reward': 0,\n",
        "        },\n",
        ")"
      ]
    },
    {
      "cell_type": "markdown",
      "metadata": {},
      "source": [
        "And now we are going to define the SPICE model which is a child of the `BaseRNN` and `torch.nn.Module` class and takes as required arguments:\n",
        "1. `spice_config (SpiceConfig)`: previously defined SpiceConfig object\n",
        "2. `n_actions (int)`: number of possible actions in your dataset (including non-displayed ones if applicable).\n",
        "3. `n_participants (int)`: number of participants in your dataset.\n",
        "\n",
        "As usual for a `torch.nn.Module` we have to define at least the `__init__` method and the `forward` method.\n",
        "The `forward` method gets called when computing a forward pass through the model and takes as inputs `(inputs (SpiceDataset.xs), prev_state (dict, default: None), batch_first (bool, default: False))` and returns `(logits (torch.Tensor, shape: (n_participants*n_blocks*n_experiments, timesteps, n_actions)), updated_state (dict))`. Two necessary method calls inside the forward pass are:\n",
        "1. `self.init_forward_pass(inputs, prev_state, batch_first) -> SpiceSignals`: returns a `SpiceSignals` object which carries all relevant information already processed.\n",
        "2. `self.post_forward_pass(SpiceSignals, batch_first) -> SpiceSignals`: does some re-arranging of the logits to adhere to `batch_first`."
      ]
    },
    {
      "cell_type": "code",
      "execution_count": null,
      "metadata": {
        "id": "z0kOR2Qgz0FZ"
      },
      "outputs": [],
      "source": [
        "class SPICERNN(BaseRNN):\n",
        "    \n",
        "    def __init__(self, n_actions, spice_config, n_participants, n_items, **kwargs):\n",
        "        super().__init__(n_actions=n_actions, spice_config=spice_config, n_participants=n_participants, n_items=n_items, embedding_size=32)\n",
        "        \n",
        "        # participant embedding\n",
        "        self.participant_embedding = self.setup_embedding(num_embeddings=n_participants, embedding_size=self.embedding_size, dropout=0.)\n",
        "        \n",
        "        # rnn modules\n",
        "        # reward-based modules\n",
        "        self.submodules_rnn['value_reward_chosen'] = self.setup_module(1+self.embedding_size)\n",
        "        self.submodules_rnn['value_reward_not_chosen'] = self.setup_module(self.embedding_size)\n",
        "        self.submodules_rnn['value_reward_not_displayed'] = self.setup_module(self.embedding_size)\n",
        "        # choice-based modules (reward-agnostic; can encode e.g. choice perseverance)\n",
        "        # ...\n",
        "        \n",
        "        # inverse noise temperatures\n",
        "        self.betas['value_reward'] = self.setup_constant(embedding_size=self.embedding_size)\n",
        "    \n",
        "    def transform_signals_to_item_space(self, actions, rewards, shown_at_0, shown_at_1):\n",
        "        \"\"\"Transform actions, rewards, and additional inputs from the action space into the item space\"\"\"\n",
        "        nan_mask = actions[..., 0].isnan()\n",
        "        \n",
        "        # map the chosen and not chosen actions to the symbol numbers\n",
        "        action_chosen = torch.where(actions.argmax(dim=-1) == 0, shown_at_0, shown_at_1).nan_to_num(0.).long()\n",
        "        action_not_chosen = torch.where(actions.argmin(dim=-1) == 0, shown_at_0, shown_at_1).nan_to_num(0.).long()\n",
        "        \n",
        "        # compute one hot encoded arrays for action_chosen and action_not_chosen\n",
        "        action_chosen_onehot = torch.nn.functional.one_hot(action_chosen, num_classes=self.n_items)\n",
        "        action_chosen_onehot = torch.where(nan_mask.unsqueeze(-1).repeat(1, 1, self.n_items), torch.nan, action_chosen_onehot)\n",
        "        \n",
        "        action_not_chosen_onehot = torch.nn.functional.one_hot(action_not_chosen, num_classes=self.n_items)\n",
        "        action_not_chosen_onehot = torch.where(nan_mask.unsqueeze(-1).repeat(1, 1, self.n_items), torch.nan, action_not_chosen_onehot)\n",
        "        \n",
        "        action_not_displayed_onehot = 1 - (action_chosen_onehot + action_not_chosen_onehot)\n",
        "        \n",
        "        # tansform now the rewards for each item instead of only the displayed positions\n",
        "        rewards_onehot = torch.where(action_chosen_onehot == 1, 1, torch.nan)\n",
        "        rewards_onehot = rewards_onehot * torch.where(actions.argmax(dim=-1) == 0, rewards[..., 0], rewards[..., 1]).unsqueeze(-1)\n",
        "        \n",
        "        # transform shown_at_0 and shown_at_1 to one hot encoded arrays\n",
        "        shown_at_0_bool = torch.nn.functional.one_hot(shown_at_0.nan_to_num(0.).long(), num_classes=self.n_items)\n",
        "        shown_at_0_bool = torch.where(nan_mask.unsqueeze(-1).repeat(1, 1, self.n_items), torch.nan, shown_at_0_bool)\n",
        "        \n",
        "        shown_at_1_bool = torch.nn.functional.one_hot(shown_at_1.nan_to_num(0.).long(), num_classes=self.n_items)\n",
        "        shown_at_1_bool = torch.where(nan_mask.unsqueeze(-1).repeat(1, 1, self.n_items), torch.nan, shown_at_1_bool)\n",
        "        \n",
        "        return action_chosen_onehot, action_not_chosen_onehot, action_not_displayed_onehot, rewards_onehot, shown_at_0_bool, shown_at_1_bool\n",
        "    \n",
        "    def transform_values_to_action_space(self, values, shown_at_0, shown_at_1):\n",
        "        \"\"\"Transform the state values from the item space back into the action space\"\"\"\n",
        "        valid_mask = ~shown_at_0.sum(dim=-1).isnan()\n",
        "        \n",
        "        shown_at_0_no_nan = shown_at_0.nan_to_num(0.).bool()\n",
        "        shown_at_1_no_nan = shown_at_1.nan_to_num(0.).bool()\n",
        "        \n",
        "        values_action_space = torch.zeros((*values.shape[:-1], self.n_actions), device=values.device) + torch.nan\n",
        "        values_action_space[valid_mask] = torch.stack((values[shown_at_0_no_nan * valid_mask.unsqueeze(-1)], values[shown_at_1_no_nan * valid_mask.unsqueeze(-1)]), dim=1)\n",
        "        \n",
        "        return values_action_space\n",
        "    \n",
        "    def forward(self, inputs, prev_state, batch_first=False):\n",
        "        \n",
        "        spice_signals = self.init_forward_pass(inputs, prev_state, batch_first)\n",
        "        \n",
        "        # transform actions from positional encoding (0: right, 1: left) -> one hot encoded items\n",
        "        shown_at_0, shown_at_1 = spice_signals.additional_inputs[..., 0]-1, spice_signals.additional_inputs[..., 1]-1\n",
        "        actions_chosen, actions_not_chosen, actions_not_displayed, rewards, shown_at_0, shown_at_1 = self.transform_signals_to_item_space(spice_signals.actions, spice_signals.rewards, shown_at_0, shown_at_1)\n",
        "        \n",
        "        # time-invariant participant features\n",
        "        participant_embeddings = self.participant_embedding(spice_signals.participant_ids)\n",
        "        beta_reward = self.betas['value_reward'](participant_embeddings)\n",
        "        \n",
        "        for timestep in spice_signals.timesteps:\n",
        "            \n",
        "            # update chosen value\n",
        "            self.call_module(\n",
        "                key_module='value_reward_chosen',\n",
        "                key_state='value_reward',\n",
        "                action_mask=actions_chosen[timestep],\n",
        "                inputs=rewards[timestep],\n",
        "                participant_index=spice_signals.participant_ids,\n",
        "                participant_embedding=participant_embeddings,\n",
        "                activation_rnn=torch.nn.functional.sigmoid,\n",
        "            )\n",
        "            \n",
        "            # update not chosen value\n",
        "            self.call_module(\n",
        "                key_module='value_reward_not_chosen',\n",
        "                key_state='value_reward',\n",
        "                action_mask=actions_not_chosen[timestep],\n",
        "                inputs=None,\n",
        "                participant_index=spice_signals.participant_ids,\n",
        "                participant_embedding=participant_embeddings,\n",
        "                activation_rnn=torch.nn.functional.sigmoid,\n",
        "            )\n",
        "            \n",
        "            # update not displayed values\n",
        "            self.call_module(\n",
        "                key_module='value_reward_not_displayed',\n",
        "                key_state='value_reward',\n",
        "                action_mask=actions_not_displayed[timestep],\n",
        "                inputs=None,\n",
        "                participant_index=spice_signals.participant_ids,\n",
        "                participant_embedding=participant_embeddings,\n",
        "                activation_rnn=torch.nn.functional.sigmoid,\n",
        "            )\n",
        "            \n",
        "            # transform logits from item-space to action-space\n",
        "            spice_signals.logits[timestep] = self.transform_values_to_action_space(self.state['value_reward'], shown_at_0[timestep], shown_at_1[timestep]) * beta_reward\n",
        "            \n",
        "        spice_signals = self.post_forward_pass(spice_signals, batch_first)\n",
        "        \n",
        "        return spice_signals.logits, self.get_state()"
      ]
    },
    {
      "cell_type": "markdown",
      "metadata": {},
      "source": [
        "Let's setup now the `SpiceEstimator` object and fit it to the data!"
      ]
    },
    {
      "cell_type": "code",
      "execution_count": 7,
      "metadata": {
        "colab": {
          "base_uri": "https://localhost:8080/",
          "height": 582
        },
        "id": "3EnmDiUMWq6e",
        "outputId": "e53b1bbd-4173-4d2c-bcdc-15832bc31bd7"
      },
      "outputs": [
        {
          "name": "stdout",
          "output_type": "stream",
          "text": [
            "\n",
            "Starting training on cpu...\n",
            "================================================================================\n",
            "\n",
            "Training the RNN...\n",
            "Epoch 1/1 --- L(Train): 0.7310446; Time: 3.41s; Convergence: 6.34e-01\n",
            "Maximum number of training epochs reached.\n",
            "Model did not converge yet.\n",
            "================================================================================\n",
            "Starting second stage SINDy fitting (threshold=0, single model)\n",
            "================================================================================\n",
            "SINDy Stage 2 - Epoch 242/5000 --- L(Train): nan; Time: 0.02s\r"
          ]
        },
        {
          "ename": "KeyboardInterrupt",
          "evalue": "",
          "output_type": "error",
          "traceback": [
            "\u001b[31m---------------------------------------------------------------------------\u001b[39m",
            "\u001b[31mKeyboardInterrupt\u001b[39m                         Traceback (most recent call last)",
            "\u001b[36mCell\u001b[39m\u001b[36m \u001b[39m\u001b[32mIn[7]\u001b[39m\u001b[32m, line 23\u001b[39m\n\u001b[32m     21\u001b[39m \u001b[38;5;28mprint\u001b[39m(\u001b[33mf\u001b[39m\u001b[33m\"\u001b[39m\u001b[38;5;130;01m\\n\u001b[39;00m\u001b[33mStarting training on \u001b[39m\u001b[38;5;132;01m{\u001b[39;00mestimator.device\u001b[38;5;132;01m}\u001b[39;00m\u001b[33m...\u001b[39m\u001b[33m\"\u001b[39m)\n\u001b[32m     22\u001b[39m \u001b[38;5;28mprint\u001b[39m(\u001b[33m\"\u001b[39m\u001b[33m=\u001b[39m\u001b[33m\"\u001b[39m * \u001b[32m80\u001b[39m)\n\u001b[32m---> \u001b[39m\u001b[32m23\u001b[39m \u001b[43mestimator\u001b[49m\u001b[43m.\u001b[49m\u001b[43mfit\u001b[49m\u001b[43m(\u001b[49m\u001b[43mdataset\u001b[49m\u001b[43m.\u001b[49m\u001b[43mxs\u001b[49m\u001b[43m,\u001b[49m\u001b[43m \u001b[49m\u001b[43mdataset\u001b[49m\u001b[43m.\u001b[49m\u001b[43mys\u001b[49m\u001b[43m)\u001b[49m\n\u001b[32m     24\u001b[39m \u001b[38;5;66;03m# estimator.load_spice(args.model)\u001b[39;00m\n\u001b[32m     25\u001b[39m \u001b[38;5;28mprint\u001b[39m(\u001b[33m\"\u001b[39m\u001b[33m=\u001b[39m\u001b[33m\"\u001b[39m * \u001b[32m80\u001b[39m)\n",
            "\u001b[36mFile \u001b[39m\u001b[32m~/repositories/SPICE/spice/estimator.py:209\u001b[39m, in \u001b[36mSpiceEstimator.fit\u001b[39m\u001b[34m(self, data, targets, data_test, target_test)\u001b[39m\n\u001b[32m    205\u001b[39m \u001b[38;5;28mprint\u001b[39m(\u001b[33m'\u001b[39m\u001b[38;5;130;01m\\n\u001b[39;00m\u001b[33mTraining the RNN...\u001b[39m\u001b[33m'\u001b[39m)\n\u001b[32m    207\u001b[39m batch_size = data.shape[\u001b[32m0\u001b[39m] \u001b[38;5;28;01mif\u001b[39;00m \u001b[38;5;28mself\u001b[39m.batch_size == -\u001b[32m1\u001b[39m \u001b[38;5;28;01melse\u001b[39;00m \u001b[38;5;28mself\u001b[39m.batch_size\n\u001b[32m--> \u001b[39m\u001b[32m209\u001b[39m rnn_model, rnn_optimizer, _ = \u001b[43mfit_model\u001b[49m\u001b[43m(\u001b[49m\n\u001b[32m    210\u001b[39m \u001b[43m    \u001b[49m\u001b[43mmodel\u001b[49m\u001b[43m=\u001b[49m\u001b[38;5;28;43mself\u001b[39;49m\u001b[43m.\u001b[49m\u001b[43mrnn_model\u001b[49m\u001b[43m,\u001b[49m\n\u001b[32m    211\u001b[39m \u001b[43m    \u001b[49m\u001b[43mdataset_train\u001b[49m\u001b[43m=\u001b[49m\u001b[43mdataset\u001b[49m\u001b[43m,\u001b[49m\n\u001b[32m    212\u001b[39m \u001b[43m    \u001b[49m\u001b[43mdataset_test\u001b[49m\u001b[43m=\u001b[49m\u001b[43mdataset_test\u001b[49m\u001b[43m,\u001b[49m\n\u001b[32m    213\u001b[39m \u001b[43m    \u001b[49m\u001b[43moptimizer\u001b[49m\u001b[43m=\u001b[49m\u001b[38;5;28;43mself\u001b[39;49m\u001b[43m.\u001b[49m\u001b[43mrnn_optimizer\u001b[49m\u001b[43m,\u001b[49m\n\u001b[32m    214\u001b[39m \u001b[43m    \u001b[49m\u001b[43mconvergence_threshold\u001b[49m\u001b[43m=\u001b[49m\u001b[38;5;28;43mself\u001b[39;49m\u001b[43m.\u001b[49m\u001b[43mconvergence_threshold\u001b[49m\u001b[43m,\u001b[49m\n\u001b[32m    215\u001b[39m \u001b[43m    \u001b[49m\u001b[43ml1_weight_decay\u001b[49m\u001b[43m=\u001b[49m\u001b[38;5;28;43mself\u001b[39;49m\u001b[43m.\u001b[49m\u001b[43ml1_weight_decay\u001b[49m\u001b[43m,\u001b[49m\n\u001b[32m    216\u001b[39m \u001b[43m    \u001b[49m\u001b[43msindy_weight\u001b[49m\u001b[43m=\u001b[49m\u001b[38;5;28;43mself\u001b[39;49m\u001b[43m.\u001b[49m\u001b[43msindy_weight\u001b[49m\u001b[43m,\u001b[49m\n\u001b[32m    217\u001b[39m \u001b[43m    \u001b[49m\u001b[43msindy_threshold_value\u001b[49m\u001b[43m=\u001b[49m\u001b[38;5;28;43mself\u001b[39;49m\u001b[43m.\u001b[49m\u001b[43msindy_threshold_value\u001b[49m\u001b[43m,\u001b[49m\n\u001b[32m    218\u001b[39m \u001b[43m    \u001b[49m\u001b[43msindy_threshold_frequency\u001b[49m\u001b[43m=\u001b[49m\u001b[38;5;28;43mself\u001b[39;49m\u001b[43m.\u001b[49m\u001b[43msindy_threshold_frequency\u001b[49m\u001b[43m,\u001b[49m\n\u001b[32m    219\u001b[39m \u001b[43m    \u001b[49m\u001b[43mepochs\u001b[49m\u001b[43m=\u001b[49m\u001b[38;5;28;43mself\u001b[39;49m\u001b[43m.\u001b[49m\u001b[43mepochs\u001b[49m\u001b[43m,\u001b[49m\n\u001b[32m    220\u001b[39m \u001b[43m    \u001b[49m\u001b[43mbatch_size\u001b[49m\u001b[43m=\u001b[49m\u001b[43mbatch_size\u001b[49m\u001b[43m,\u001b[49m\n\u001b[32m    221\u001b[39m \u001b[43m    \u001b[49m\u001b[43mbagging\u001b[49m\u001b[43m=\u001b[49m\u001b[38;5;28;43mself\u001b[39;49m\u001b[43m.\u001b[49m\u001b[43mbagging\u001b[49m\u001b[43m,\u001b[49m\n\u001b[32m    222\u001b[39m \u001b[43m    \u001b[49m\u001b[43mscheduler\u001b[49m\u001b[43m=\u001b[49m\u001b[38;5;28;43mself\u001b[39;49m\u001b[43m.\u001b[49m\u001b[43mscheduler\u001b[49m\u001b[43m,\u001b[49m\n\u001b[32m    223\u001b[39m \u001b[43m    \u001b[49m\u001b[43mn_steps\u001b[49m\u001b[43m=\u001b[49m\u001b[38;5;28;43mself\u001b[39;49m\u001b[43m.\u001b[49m\u001b[43mn_steps_per_call\u001b[49m\u001b[43m,\u001b[49m\n\u001b[32m    224\u001b[39m \u001b[43m    \u001b[49m\u001b[43mverbose\u001b[49m\u001b[43m=\u001b[49m\u001b[38;5;28;43mself\u001b[39;49m\u001b[43m.\u001b[49m\u001b[43mverbose\u001b[49m\u001b[43m,\u001b[49m\n\u001b[32m    225\u001b[39m \u001b[43m    \u001b[49m\u001b[43mpath_save_checkpoints\u001b[49m\u001b[43m=\u001b[49m\u001b[38;5;28;43;01mNone\u001b[39;49;00m\u001b[43m,\u001b[49m\n\u001b[32m    226\u001b[39m \u001b[43m\u001b[49m\u001b[43m)\u001b[49m\n\u001b[32m    228\u001b[39m \u001b[38;5;28mself\u001b[39m.rnn_model = rnn_model\n\u001b[32m    229\u001b[39m \u001b[38;5;28mself\u001b[39m.rnn_optimizer = rnn_optimizer\n",
            "\u001b[36mFile \u001b[39m\u001b[32m~/repositories/SPICE/spice/resources/spice_training.py:537\u001b[39m, in \u001b[36mfit_model\u001b[39m\u001b[34m(model, dataset_train, dataset_test, optimizer, convergence_threshold, l1_weight_decay, sindy_weight, sindy_threshold_value, sindy_threshold_frequency, epochs, batch_size, bagging, scheduler, n_steps, verbose, path_save_checkpoints)\u001b[39m\n\u001b[32m    535\u001b[39m \u001b[38;5;66;03m# Second stage: Refit SINDy coefficients on trained RNN hidden states (always run when sindy_weight > 0)\u001b[39;00m\n\u001b[32m    536\u001b[39m \u001b[38;5;28;01mif\u001b[39;00m sindy_weight > \u001b[32m0\u001b[39m:\n\u001b[32m--> \u001b[39m\u001b[32m537\u001b[39m     model = \u001b[43mfit_sindy_second_stage\u001b[49m\u001b[43m(\u001b[49m\n\u001b[32m    538\u001b[39m \u001b[43m        \u001b[49m\u001b[43mmodel\u001b[49m\u001b[43m=\u001b[49m\u001b[43mmodel\u001b[49m\u001b[43m,\u001b[49m\n\u001b[32m    539\u001b[39m \u001b[43m        \u001b[49m\u001b[43mdataset_train\u001b[49m\u001b[43m=\u001b[49m\u001b[43mdataset_train\u001b[49m\u001b[43m,\u001b[49m\n\u001b[32m    540\u001b[39m \u001b[43m        \u001b[49m\u001b[43mdataset_test\u001b[49m\u001b[43m=\u001b[49m\u001b[43mdataset_test\u001b[49m\u001b[43m,\u001b[49m\n\u001b[32m    541\u001b[39m \u001b[43m        \u001b[49m\u001b[43mlearning_rate\u001b[49m\u001b[43m=\u001b[49m\u001b[43moptimizer\u001b[49m\u001b[43m.\u001b[49m\u001b[43mparam_groups\u001b[49m\u001b[43m[\u001b[49m\u001b[32;43m0\u001b[39;49m\u001b[43m]\u001b[49m\u001b[43m[\u001b[49m\u001b[33;43m'\u001b[39;49m\u001b[33;43mlr\u001b[39;49m\u001b[33;43m'\u001b[39;49m\u001b[43m]\u001b[49m\u001b[43m,\u001b[49m\n\u001b[32m    542\u001b[39m \u001b[43m        \u001b[49m\u001b[43mepochs\u001b[49m\u001b[43m=\u001b[49m\u001b[32;43m5000\u001b[39;49m\u001b[43m,\u001b[49m\n\u001b[32m    543\u001b[39m \u001b[43m        \u001b[49m\u001b[43mbatch_size\u001b[49m\u001b[43m=\u001b[49m\u001b[43m-\u001b[49m\u001b[32;43m1\u001b[39;49m\u001b[43m,\u001b[49m\n\u001b[32m    544\u001b[39m \u001b[43m        \u001b[49m\u001b[43mverbose\u001b[49m\u001b[43m=\u001b[49m\u001b[43mverbose\u001b[49m\u001b[43m,\u001b[49m\n\u001b[32m    545\u001b[39m \u001b[43m    \u001b[49m\u001b[43m)\u001b[49m\n\u001b[32m    547\u001b[39m \u001b[38;5;28;01mreturn\u001b[39;00m model.eval(), optimizer, loss_train\n",
            "\u001b[36mFile \u001b[39m\u001b[32m~/repositories/SPICE/spice/resources/spice_training.py:278\u001b[39m, in \u001b[36mfit_sindy_second_stage\u001b[39m\u001b[34m(model, dataset_train, dataset_test, learning_rate, epochs, batch_size, verbose)\u001b[39m\n\u001b[32m    275\u001b[39m     batched_target_state_buffer[state] = target_state_buffer_train[state][idx:idx+batch_size][batched_nan_mask]\n\u001b[32m    277\u001b[39m \u001b[38;5;66;03m# get sindy-based state updates from original rnn states\u001b[39;00m\n\u001b[32m--> \u001b[39m\u001b[32m278\u001b[39m state_pred = \u001b[43mmodel\u001b[49m\u001b[43m(\u001b[49m\u001b[43mxs\u001b[49m\u001b[43m[\u001b[49m\u001b[43midx\u001b[49m\u001b[43m:\u001b[49m\u001b[43midx\u001b[49m\u001b[43m+\u001b[49m\u001b[43mbatch_size\u001b[49m\u001b[43m,\u001b[49m\u001b[43m \u001b[49m\u001b[43m:\u001b[49m\u001b[32;43m1\u001b[39;49m\u001b[43m]\u001b[49m\u001b[43m.\u001b[49m\u001b[43mto\u001b[49m\u001b[43m(\u001b[49m\u001b[43mmodel\u001b[49m\u001b[43m.\u001b[49m\u001b[43mdevice\u001b[49m\u001b[43m)\u001b[49m\u001b[43m[\u001b[49m\u001b[43mbatched_nan_mask\u001b[49m\u001b[43m]\u001b[49m\u001b[43m,\u001b[49m\u001b[43m \u001b[49m\u001b[43mbatched_input_state_buffer\u001b[49m\u001b[43m,\u001b[49m\u001b[43m \u001b[49m\u001b[43mbatch_first\u001b[49m\u001b[43m=\u001b[49m\u001b[38;5;28;43;01mTrue\u001b[39;49;00m\u001b[43m)\u001b[49m[\u001b[32m1\u001b[39m]\n\u001b[32m    280\u001b[39m loss_batch = \u001b[32m0\u001b[39m\n\u001b[32m    281\u001b[39m \u001b[38;5;28;01mfor\u001b[39;00m state \u001b[38;5;129;01min\u001b[39;00m model.spice_config.states_in_logit:\n",
            "\u001b[36mFile \u001b[39m\u001b[32m~/miniconda3/envs/spice/lib/python3.11/site-packages/torch/nn/modules/module.py:1751\u001b[39m, in \u001b[36mModule._wrapped_call_impl\u001b[39m\u001b[34m(self, *args, **kwargs)\u001b[39m\n\u001b[32m   1749\u001b[39m     \u001b[38;5;28;01mreturn\u001b[39;00m \u001b[38;5;28mself\u001b[39m._compiled_call_impl(*args, **kwargs)  \u001b[38;5;66;03m# type: ignore[misc]\u001b[39;00m\n\u001b[32m   1750\u001b[39m \u001b[38;5;28;01melse\u001b[39;00m:\n\u001b[32m-> \u001b[39m\u001b[32m1751\u001b[39m     \u001b[38;5;28;01mreturn\u001b[39;00m \u001b[38;5;28;43mself\u001b[39;49m\u001b[43m.\u001b[49m\u001b[43m_call_impl\u001b[49m\u001b[43m(\u001b[49m\u001b[43m*\u001b[49m\u001b[43margs\u001b[49m\u001b[43m,\u001b[49m\u001b[43m \u001b[49m\u001b[43m*\u001b[49m\u001b[43m*\u001b[49m\u001b[43mkwargs\u001b[49m\u001b[43m)\u001b[49m\n",
            "\u001b[36mFile \u001b[39m\u001b[32m~/miniconda3/envs/spice/lib/python3.11/site-packages/torch/nn/modules/module.py:1762\u001b[39m, in \u001b[36mModule._call_impl\u001b[39m\u001b[34m(self, *args, **kwargs)\u001b[39m\n\u001b[32m   1757\u001b[39m \u001b[38;5;66;03m# If we don't have any hooks, we want to skip the rest of the logic in\u001b[39;00m\n\u001b[32m   1758\u001b[39m \u001b[38;5;66;03m# this function, and just call forward.\u001b[39;00m\n\u001b[32m   1759\u001b[39m \u001b[38;5;28;01mif\u001b[39;00m \u001b[38;5;129;01mnot\u001b[39;00m (\u001b[38;5;28mself\u001b[39m._backward_hooks \u001b[38;5;129;01mor\u001b[39;00m \u001b[38;5;28mself\u001b[39m._backward_pre_hooks \u001b[38;5;129;01mor\u001b[39;00m \u001b[38;5;28mself\u001b[39m._forward_hooks \u001b[38;5;129;01mor\u001b[39;00m \u001b[38;5;28mself\u001b[39m._forward_pre_hooks\n\u001b[32m   1760\u001b[39m         \u001b[38;5;129;01mor\u001b[39;00m _global_backward_pre_hooks \u001b[38;5;129;01mor\u001b[39;00m _global_backward_hooks\n\u001b[32m   1761\u001b[39m         \u001b[38;5;129;01mor\u001b[39;00m _global_forward_hooks \u001b[38;5;129;01mor\u001b[39;00m _global_forward_pre_hooks):\n\u001b[32m-> \u001b[39m\u001b[32m1762\u001b[39m     \u001b[38;5;28;01mreturn\u001b[39;00m \u001b[43mforward_call\u001b[49m\u001b[43m(\u001b[49m\u001b[43m*\u001b[49m\u001b[43margs\u001b[49m\u001b[43m,\u001b[49m\u001b[43m \u001b[49m\u001b[43m*\u001b[49m\u001b[43m*\u001b[49m\u001b[43mkwargs\u001b[49m\u001b[43m)\u001b[49m\n\u001b[32m   1764\u001b[39m result = \u001b[38;5;28;01mNone\u001b[39;00m\n\u001b[32m   1765\u001b[39m called_always_called_hooks = \u001b[38;5;28mset\u001b[39m()\n",
            "\u001b[36mCell\u001b[39m\u001b[36m \u001b[39m\u001b[32mIn[6]\u001b[39m\u001b[32m, line 89\u001b[39m, in \u001b[36mSPICERNN.forward\u001b[39m\u001b[34m(self, inputs, prev_state, batch_first)\u001b[39m\n\u001b[32m     78\u001b[39m \u001b[38;5;28mself\u001b[39m.call_module(\n\u001b[32m     79\u001b[39m     key_module=\u001b[33m'\u001b[39m\u001b[33mvalue_reward_chosen\u001b[39m\u001b[33m'\u001b[39m,\n\u001b[32m     80\u001b[39m     key_state=\u001b[33m'\u001b[39m\u001b[33mvalue_reward\u001b[39m\u001b[33m'\u001b[39m,\n\u001b[32m   (...)\u001b[39m\u001b[32m     85\u001b[39m     activation_rnn=torch.nn.functional.sigmoid,\n\u001b[32m     86\u001b[39m )\n\u001b[32m     88\u001b[39m \u001b[38;5;66;03m# update not chosen value\u001b[39;00m\n\u001b[32m---> \u001b[39m\u001b[32m89\u001b[39m \u001b[38;5;28;43mself\u001b[39;49m\u001b[43m.\u001b[49m\u001b[43mcall_module\u001b[49m\u001b[43m(\u001b[49m\n\u001b[32m     90\u001b[39m \u001b[43m    \u001b[49m\u001b[43mkey_module\u001b[49m\u001b[43m=\u001b[49m\u001b[33;43m'\u001b[39;49m\u001b[33;43mvalue_reward_not_chosen\u001b[39;49m\u001b[33;43m'\u001b[39;49m\u001b[43m,\u001b[49m\n\u001b[32m     91\u001b[39m \u001b[43m    \u001b[49m\u001b[43mkey_state\u001b[49m\u001b[43m=\u001b[49m\u001b[33;43m'\u001b[39;49m\u001b[33;43mvalue_reward\u001b[39;49m\u001b[33;43m'\u001b[39;49m\u001b[43m,\u001b[49m\n\u001b[32m     92\u001b[39m \u001b[43m    \u001b[49m\u001b[43maction_mask\u001b[49m\u001b[43m=\u001b[49m\u001b[43mactions_not_chosen\u001b[49m\u001b[43m[\u001b[49m\u001b[43mtimestep\u001b[49m\u001b[43m]\u001b[49m\u001b[43m,\u001b[49m\n\u001b[32m     93\u001b[39m \u001b[43m    \u001b[49m\u001b[43minputs\u001b[49m\u001b[43m=\u001b[49m\u001b[38;5;28;43;01mNone\u001b[39;49;00m\u001b[43m,\u001b[49m\n\u001b[32m     94\u001b[39m \u001b[43m    \u001b[49m\u001b[43mparticipant_index\u001b[49m\u001b[43m=\u001b[49m\u001b[43mspice_signals\u001b[49m\u001b[43m.\u001b[49m\u001b[43mparticipant_ids\u001b[49m\u001b[43m,\u001b[49m\n\u001b[32m     95\u001b[39m \u001b[43m    \u001b[49m\u001b[43mparticipant_embedding\u001b[49m\u001b[43m=\u001b[49m\u001b[43mparticipant_embeddings\u001b[49m\u001b[43m,\u001b[49m\n\u001b[32m     96\u001b[39m \u001b[43m    \u001b[49m\u001b[43mactivation_rnn\u001b[49m\u001b[43m=\u001b[49m\u001b[43mtorch\u001b[49m\u001b[43m.\u001b[49m\u001b[43mnn\u001b[49m\u001b[43m.\u001b[49m\u001b[43mfunctional\u001b[49m\u001b[43m.\u001b[49m\u001b[43msigmoid\u001b[49m\u001b[43m,\u001b[49m\n\u001b[32m     97\u001b[39m \u001b[43m\u001b[49m\u001b[43m)\u001b[49m\n\u001b[32m     99\u001b[39m \u001b[38;5;66;03m# update not displayed values\u001b[39;00m\n\u001b[32m    100\u001b[39m \u001b[38;5;28mself\u001b[39m.call_module(\n\u001b[32m    101\u001b[39m     key_module=\u001b[33m'\u001b[39m\u001b[33mvalue_reward_not_displayed\u001b[39m\u001b[33m'\u001b[39m,\n\u001b[32m    102\u001b[39m     key_state=\u001b[33m'\u001b[39m\u001b[33mvalue_reward\u001b[39m\u001b[33m'\u001b[39m,\n\u001b[32m   (...)\u001b[39m\u001b[32m    107\u001b[39m     activation_rnn=torch.nn.functional.sigmoid,\n\u001b[32m    108\u001b[39m )\n",
            "\u001b[36mFile \u001b[39m\u001b[32m~/repositories/SPICE/spice/resources/rnn.py:324\u001b[39m, in \u001b[36mBaseRNN.call_module\u001b[39m\u001b[34m(self, key_module, key_state, action_mask, inputs, participant_embedding, participant_index, activation_rnn)\u001b[39m\n\u001b[32m    321\u001b[39m             next_value = activation_rnn(next_value)\n\u001b[32m    322\u001b[39m     \u001b[38;5;28;01melse\u001b[39;00m:\n\u001b[32m    323\u001b[39m         \u001b[38;5;66;03m# use sindy coefficients\u001b[39;00m\n\u001b[32m--> \u001b[39m\u001b[32m324\u001b[39m         next_value = \u001b[38;5;28;43mself\u001b[39;49m\u001b[43m.\u001b[49m\u001b[43mforward_sindy\u001b[49m\u001b[43m(\u001b[49m\n\u001b[32m    325\u001b[39m \u001b[43m            \u001b[49m\u001b[43mh_current\u001b[49m\u001b[43m \u001b[49m\u001b[43m=\u001b[49m\u001b[43m \u001b[49m\u001b[43mvalue\u001b[49m\u001b[43m,\u001b[49m\u001b[43m \u001b[49m\n\u001b[32m    326\u001b[39m \u001b[43m            \u001b[49m\u001b[43mmodule_name\u001b[49m\u001b[43m \u001b[49m\u001b[43m=\u001b[49m\u001b[43m \u001b[49m\u001b[43mkey_module\u001b[49m\u001b[43m,\u001b[49m\u001b[43m \u001b[49m\n\u001b[32m    327\u001b[39m \u001b[43m            \u001b[49m\u001b[43mparticipant_ids\u001b[49m\u001b[43m \u001b[49m\u001b[43m=\u001b[49m\u001b[43m \u001b[49m\u001b[43mparticipant_index\u001b[49m\u001b[43m.\u001b[49m\u001b[43msqueeze\u001b[49m\u001b[43m(\u001b[49m\u001b[43m)\u001b[49m\u001b[43m,\u001b[49m\u001b[43m \u001b[49m\n\u001b[32m    328\u001b[39m \u001b[43m            \u001b[49m\u001b[43mcontrols\u001b[49m\u001b[43m \u001b[49m\u001b[43m=\u001b[49m\u001b[43m \u001b[49m\u001b[43minputs\u001b[49m\u001b[43m,\u001b[49m\u001b[43m \u001b[49m\n\u001b[32m    329\u001b[39m \u001b[43m            \u001b[49m\u001b[43mpolynomial_degree\u001b[49m\u001b[43m \u001b[49m\u001b[43m=\u001b[49m\u001b[43m \u001b[49m\u001b[38;5;28;43mself\u001b[39;49m\u001b[43m.\u001b[49m\u001b[43msindy_polynomial_degree\u001b[49m\u001b[43m,\u001b[49m\n\u001b[32m    330\u001b[39m \u001b[43m            \u001b[49m\u001b[43m)\u001b[49m\n\u001b[32m    332\u001b[39m \u001b[38;5;28;01melif\u001b[39;00m key_module \u001b[38;5;129;01min\u001b[39;00m \u001b[38;5;28mself\u001b[39m.submodules_eq.keys():\n\u001b[32m    333\u001b[39m     \u001b[38;5;66;03m# use hard-coded equation\u001b[39;00m\n\u001b[32m    334\u001b[39m     next_value = \u001b[38;5;28mself\u001b[39m.submodules_eq[key_module](value, inputs)\n",
            "\u001b[36mFile \u001b[39m\u001b[32m~/repositories/SPICE/spice/resources/rnn.py:452\u001b[39m, in \u001b[36mBaseRNN.forward_sindy\u001b[39m\u001b[34m(self, h_current, module_name, participant_ids, controls, polynomial_degree)\u001b[39m\n\u001b[32m    444\u001b[39m library = compute_polynomial_library(\n\u001b[32m    445\u001b[39m     h_current, controls, degree=polynomial_degree, include_bias=\u001b[38;5;28;01mTrue\u001b[39;00m\n\u001b[32m    446\u001b[39m )  \u001b[38;5;66;03m# [batch, n_actions, n_library_terms]\u001b[39;00m\n\u001b[32m    448\u001b[39m \u001b[38;5;66;03m# Predict next state via SINDy: x_next = x + library @ coeff\u001b[39;00m\n\u001b[32m    449\u001b[39m \u001b[38;5;66;03m# library: [batch, n_actions, n_library_terms]\u001b[39;00m\n\u001b[32m    450\u001b[39m \u001b[38;5;66;03m# coeffs_sparse: [batch, n_library_terms]\u001b[39;00m\n\u001b[32m    451\u001b[39m \u001b[38;5;66;03m# Need to expand for matrix multiply per action\u001b[39;00m\n\u001b[32m--> \u001b[39m\u001b[32m452\u001b[39m delta = \u001b[43mtorch\u001b[49m\u001b[43m.\u001b[49m\u001b[43meinsum\u001b[49m\u001b[43m(\u001b[49m\u001b[33;43m'\u001b[39;49m\u001b[33;43mbaf,bf->ba\u001b[39;49m\u001b[33;43m'\u001b[39;49m\u001b[43m,\u001b[49m\u001b[43m \u001b[49m\u001b[43mlibrary\u001b[49m\u001b[43m,\u001b[49m\u001b[43m \u001b[49m\u001b[43mcoeffs_sparse\u001b[49m\u001b[43m)\u001b[49m  \u001b[38;5;66;03m# [batch, n_actions]\u001b[39;00m\n\u001b[32m    453\u001b[39m h_next_sindy = h_current + delta\n\u001b[32m    455\u001b[39m \u001b[38;5;28;01mreturn\u001b[39;00m h_next_sindy\n",
            "\u001b[36mFile \u001b[39m\u001b[32m~/miniconda3/envs/spice/lib/python3.11/site-packages/torch/functional.py:409\u001b[39m, in \u001b[36meinsum\u001b[39m\u001b[34m(*args)\u001b[39m\n\u001b[32m    406\u001b[39m     equation = args[\u001b[32m0\u001b[39m]\n\u001b[32m    407\u001b[39m     operands = args[\u001b[32m1\u001b[39m:]\n\u001b[32m--> \u001b[39m\u001b[32m409\u001b[39m \u001b[38;5;28;01mif\u001b[39;00m has_torch_function(operands):\n\u001b[32m    410\u001b[39m     \u001b[38;5;28;01mreturn\u001b[39;00m handle_torch_function(einsum, operands, equation, *operands)\n\u001b[32m    412\u001b[39m \u001b[38;5;28;01mif\u001b[39;00m \u001b[38;5;28mlen\u001b[39m(operands) == \u001b[32m1\u001b[39m \u001b[38;5;129;01mand\u001b[39;00m \u001b[38;5;28misinstance\u001b[39m(operands[\u001b[32m0\u001b[39m], (\u001b[38;5;28mlist\u001b[39m, \u001b[38;5;28mtuple\u001b[39m)):\n\u001b[32m    413\u001b[39m     \u001b[38;5;66;03m# the old interface of passing the operands as one list argument\u001b[39;00m\n",
            "\u001b[31mKeyboardInterrupt\u001b[39m: "
          ]
        }
      ],
      "source": [
        "estimator = SpiceEstimator(\n",
        "        # model paramaeters\n",
        "        rnn_class=SPICERNN,\n",
        "        spice_config=spice_config,\n",
        "        n_actions=2,\n",
        "        n_items=6,\n",
        "        n_participants=n_participants,\n",
        "        n_experiments=1,\n",
        "        \n",
        "        # training parameters\n",
        "        epochs=1,\n",
        "        l2_weight_decay=0.01,\n",
        "        spice_optim_threshold=0.1,\n",
        "        sindy_threshold_frequency=100,\n",
        "        sindy_weight=0.01,\n",
        "        spice_library_polynomial_degree=2,\n",
        "        verbose=True,\n",
        "        save_path_spice='../params/augustat2025/spice_augustat2025.pkl',\n",
        "    )\n",
        "\n",
        "print(f\"\\nStarting training on {estimator.device}...\")\n",
        "print(\"=\" * 80)\n",
        "estimator.fit(dataset.xs, dataset.ys)\n",
        "# estimator.load_spice(args.model)\n",
        "print(\"=\" * 80)\n",
        "print(\"\\nTraining complete!\")\n",
        "\n",
        "# Print example SPICE model for first participant\n",
        "print(\"\\nExample SPICE model (participant 0):\")\n",
        "print(\"-\" * 80)\n",
        "estimator.print_spice_model(participant_id=0)\n",
        "print(\"-\" * 80)"
      ]
    },
    {
      "cell_type": "code",
      "execution_count": null,
      "metadata": {},
      "outputs": [],
      "source": []
    }
  ],
  "metadata": {
    "accelerator": "GPU",
    "colab": {
      "gpuType": "T4",
      "provenance": []
    },
    "kernelspec": {
      "display_name": "spice",
      "language": "python",
      "name": "python3"
    },
    "language_info": {
      "codemirror_mode": {
        "name": "ipython",
        "version": 3
      },
      "file_extension": ".py",
      "mimetype": "text/x-python",
      "name": "python",
      "nbconvert_exporter": "python",
      "pygments_lexer": "ipython3",
      "version": "3.11.13"
    }
  },
  "nbformat": 4,
  "nbformat_minor": 0
}
