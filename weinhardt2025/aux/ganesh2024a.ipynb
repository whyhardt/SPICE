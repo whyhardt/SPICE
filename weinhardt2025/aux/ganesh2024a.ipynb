{
  "cells": [
    {
      "cell_type": "code",
      "execution_count": 1,
      "metadata": {
        "colab": {
          "base_uri": "https://localhost:8080/"
        },
        "id": "tf7jlYw4NA0v",
        "outputId": "0969ca34-675d-422e-cbfb-7387d9bcd8ad"
      },
      "outputs": [],
      "source": [
        "#!git clone https://github.com/whyhardt/SPICE.git"
      ]
    },
    {
      "cell_type": "code",
      "execution_count": 2,
      "metadata": {
        "colab": {
          "base_uri": "https://localhost:8080/",
          "height": 1000
        },
        "id": "oXIbg826NS5i",
        "outputId": "3825864a-cb2d-4ad5-f2e5-79a4e81dfc3e"
      },
      "outputs": [],
      "source": [
        "# !pip install -e SPICE"
      ]
    },
    {
      "cell_type": "code",
      "execution_count": 2,
      "metadata": {
        "id": "f0uVlABYznR5"
      },
      "outputs": [],
      "source": [
        "import pandas as pd\n",
        "import numpy as np\n",
        "from typing import Dict, List, Tuple\n",
        "import matplotlib.pyplot as plt\n",
        "\n",
        "from spice.estimator import SpiceEstimator\n",
        "from spice.resources.spice_utils import SpiceConfig\n",
        "from spice.utils.convert_dataset import convert_dataset\n",
        "from spice.resources.rnn import BaseRNN\n",
        "\n",
        "# For custom RNN\n",
        "import torch\n",
        "import torch.nn as nn"
      ]
    },
    {
      "cell_type": "markdown",
      "metadata": {},
      "source": [
        "Let's load the data first with the `convert_dataset` method. This method returns a `SpiceDataset` object which we can use right away "
      ]
    },
    {
      "cell_type": "code",
      "execution_count": 3,
      "metadata": {},
      "outputs": [
        {
          "name": "stdout",
          "output_type": "stream",
          "text": [
            "Shape of dataset: torch.Size([1176, 24, 8])\n",
            "Number of participants: 98\n",
            "Number of actions in dataset: 2\n",
            "Number of additional inputs: 1\n"
          ]
        }
      ],
      "source": [
        "# Load your data\n",
        "dataset = convert_dataset(\n",
        "    file = '../data/ganesh2024a/ganesh2024a.csv',\n",
        "    df_participant_id='subjID',\n",
        "    df_choice='chose_high',\n",
        "    df_reward='reward',\n",
        "    df_block='blocks',\n",
        "    additional_inputs=['contrast_difference'],\n",
        "    timeshift_additional_inputs=True,\n",
        "    )\n",
        "\n",
        "# structure of dataset:\n",
        "# dataset has two main attributes: xs -> inputs; ys -> targets (next action)\n",
        "# shape: (n_participants*n_blocks*n_experiments, n_timesteps, features)\n",
        "# features are (n_actions * action, n_actions * reward, n_additional_inputs * additional_input, block_number, experiment_id, participant_id)\n",
        "\n",
        "# in order to set up the participant embedding we have to compute the number of unique participants in our data \n",
        "# to get the number of participants n_participants we do:\n",
        "n_participants = len(dataset.xs[..., -1].unique())\n",
        "\n",
        "print(f\"Shape of dataset: {dataset.xs.shape}\")\n",
        "print(f\"Number of participants: {n_participants}\")\n",
        "n_actions = dataset.ys.shape[-1]\n",
        "print(f\"Number of actions in dataset: {n_actions}\")\n",
        "print(f\"Number of additional inputs: {dataset.xs.shape[-1]-2*n_actions-3}\")"
      ]
    },
    {
      "cell_type": "markdown",
      "metadata": {},
      "source": [
        "Now we are going to define the configuration for SPICE with a `SpiceConfig` object.\n",
        "\n",
        "The `SpiceConfig` takes as arguments \n",
        "1. `library_setup (dict)`: Defining the variable names of each module.\n",
        "2. `memory_state (dict)`: Defining the memory state variables and their initial values.\n",
        "3. `states_in_logit (list)`: Defining which of the memory state variables are used later for the logit computation. This is necessary for some background processes.  "
      ]
    },
    {
      "cell_type": "code",
      "execution_count": 7,
      "metadata": {},
      "outputs": [],
      "source": [
        "spice_config = SpiceConfig(\n",
        "    library_setup={\n",
        "        'value_reward_chosen': ['contr_diff', 'reward'],\n",
        "        'value_reward_not_chosen': ['contr_diff', 'reward'],\n",
        "        'value_choice_chosen': ['contr_diff'],\n",
        "        'value_choice_not_chosen': ['contr_diff'],\n",
        "    },\n",
        "    \n",
        "    memory_state={\n",
        "            'value_reward': 0.5,\n",
        "            'value_choice': 0.,\n",
        "        }\n",
        ")"
      ]
    },
    {
      "cell_type": "markdown",
      "metadata": {},
      "source": [
        "And now we are going to define the SPICE model which is a child of the `BaseRNN` and `torch.nn.Module` class and takes as required arguments:\n",
        "1. `spice_config (SpiceConfig)`: previously defined SpiceConfig object\n",
        "2. `n_actions (int)`: number of possible actions in your dataset (including non-displayed ones if applicable).\n",
        "3. `n_participants (int)`: number of participants in your dataset.\n",
        "\n",
        "As usual for a `torch.nn.Module` we have to define at least the `__init__` method and the `forward` method.\n",
        "The `forward` method gets called when computing a forward pass through the model and takes as inputs `(inputs (SpiceDataset.xs), prev_state (dict, default: None), batch_first (bool, default: False))` and returns `(logits (torch.Tensor, shape: (n_participants*n_blocks*n_experiments, timesteps, n_actions)), updated_state (dict))`. Two necessary method calls inside the forward pass are:\n",
        "1. `self.init_forward_pass(inputs, prev_state, batch_first) -> SpiceSignals`: returns a `SpiceSignals` object which carries all relevant information already processed.\n",
        "2. `self.post_forward_pass(SpiceSignals, batch_first) -> SpiceSignals`: does some re-arranging of the logits to adhere to `batch_first`."
      ]
    },
    {
      "cell_type": "code",
      "execution_count": 12,
      "metadata": {
        "id": "z0kOR2Qgz0FZ"
      },
      "outputs": [],
      "source": [
        "class SPICERNN(BaseRNN):\n",
        "    \n",
        "    def __init__(self, n_actions, spice_config, n_participants, n_items, **kwargs):\n",
        "        super().__init__(n_actions=n_actions, spice_config=spice_config, n_participants=n_participants, n_items=n_items, embedding_size=32)\n",
        "        \n",
        "        # participant embedding\n",
        "        self.participant_embedding = self.setup_embedding(num_embeddings=n_participants, embedding_size=self.embedding_size, dropout=0.)\n",
        "        \n",
        "        # scaling factor (inverse noise temperature) for each participant for the values which are handled by an hard-coded equation\n",
        "        self.betas['value_reward'] = self.setup_constant(embedding_size=self.embedding_size)\n",
        "        self.betas['value_choice'] = self.setup_constant(embedding_size=self.embedding_size)\n",
        "        \n",
        "        # set up the submodules\n",
        "        self.submodules_rnn['value_reward_chosen'] = self.setup_module(input_size=2+self.embedding_size)\n",
        "        self.submodules_rnn['value_reward_not_chosen'] = self.setup_module(input_size=2+self.embedding_size)\n",
        "        self.submodules_rnn['value_choice_chosen'] = self.setup_module(input_size=1+self.embedding_size)\n",
        "        self.submodules_rnn['value_choice_not_chosen'] = self.setup_module(input_size=1+self.embedding_size)\n",
        "    \n",
        "    def forward(self, inputs, prev_state, batch_first=False):\n",
        "        \n",
        "        spice_signals = self.init_forward_pass(inputs, prev_state, batch_first)\n",
        "        \n",
        "        contr_diffs = spice_signals.additional_inputs.repeat(1, 1, self.n_actions)\n",
        "        rewards_chosen = (spice_signals.actions * spice_signals.rewards.nan_to_num(0)).sum(dim=-1, keepdim=True).repeat(1, 1, self.n_actions)\n",
        "        \n",
        "        # time-invariant participant features\n",
        "        participant_embeddings = self.participant_embedding(spice_signals.participant_ids)\n",
        "        beta_reward = self.betas['value_reward'](participant_embeddings)\n",
        "        beta_choice = self.betas['value_choice'](participant_embeddings)\n",
        "        \n",
        "        for timestep in spice_signals.timesteps:\n",
        "            \n",
        "            # update chosen value\n",
        "            self.call_module(\n",
        "                key_module='value_reward_chosen',\n",
        "                key_state='value_reward',\n",
        "                action_mask=spice_signals.actions[timestep],\n",
        "                inputs=(rewards_chosen[timestep], contr_diffs[timestep]),\n",
        "                participant_index=spice_signals.participant_ids,\n",
        "                participant_embedding=participant_embeddings,\n",
        "                activation_rnn=torch.nn.functional.sigmoid,\n",
        "            )\n",
        "            \n",
        "            # update not chosen value\n",
        "            self.call_module(\n",
        "                key_module='value_reward_not_chosen',\n",
        "                key_state='value_reward',\n",
        "                action_mask=1-spice_signals.actions[timestep],\n",
        "                inputs=(rewards_chosen[timestep], contr_diffs[timestep]),\n",
        "                participant_index=spice_signals.participant_ids,\n",
        "                participant_embedding=participant_embeddings,\n",
        "                activation_rnn=torch.nn.functional.sigmoid,\n",
        "            )\n",
        "            \n",
        "            # same for choice values\n",
        "            self.call_module(\n",
        "                key_module='value_choice_chosen',\n",
        "                key_state='value_choice',\n",
        "                action_mask=spice_signals.actions[timestep],\n",
        "                inputs=contr_diffs[timestep],\n",
        "                participant_index=spice_signals.participant_ids,\n",
        "                participant_embedding=participant_embeddings,\n",
        "                activation_rnn=torch.nn.functional.sigmoid,\n",
        "            )\n",
        "            \n",
        "            self.call_module(\n",
        "                key_module='value_choice_not_chosen',\n",
        "                key_state='value_choice',\n",
        "                action_mask=1-spice_signals.actions[timestep],\n",
        "                inputs=contr_diffs[timestep],\n",
        "                participant_index=spice_signals.participant_ids,\n",
        "                participant_embedding=participant_embeddings,\n",
        "                activation_rnn=torch.nn.functional.sigmoid,\n",
        "            )\n",
        "            \n",
        "            # transform logits from item-space to action-space\n",
        "            spice_signals.logits[timestep] = self.state['value_reward'] * beta_reward + self.state['value_choice'] * beta_choice\n",
        "            \n",
        "        spice_signals = self.post_forward_pass(spice_signals, batch_first)\n",
        "        \n",
        "        return spice_signals.logits, self.get_state()"
      ]
    },
    {
      "cell_type": "markdown",
      "metadata": {},
      "source": [
        "Let's setup now the `SpiceEstimator` object and fit it to the data!"
      ]
    },
    {
      "cell_type": "code",
      "execution_count": 14,
      "metadata": {
        "colab": {
          "base_uri": "https://localhost:8080/",
          "height": 582
        },
        "id": "3EnmDiUMWq6e",
        "outputId": "e53b1bbd-4173-4d2c-bcdc-15832bc31bd7"
      },
      "outputs": [
        {
          "name": "stdout",
          "output_type": "stream",
          "text": [
            "\n",
            "Starting training on cpu...\n",
            "================================================================================\n",
            "\n",
            "Training the RNN...\n",
            "Epoch 10/10 --- L(Train): 0.4960748; Time: 0.42s; Convergence: 1.38e-02\n",
            "Maximum number of training epochs reached.\n",
            "Model did not converge yet.\n",
            "================================================================================\n",
            "Starting second stage SINDy fitting (threshold=0, single model)\n",
            "================================================================================\n",
            "SINDy Stage 2 - Epoch 10/10 --- L(Train): 0.0345827; Time: 0.02s\n",
            "================================================================================\n",
            "Second stage SINDy fitting complete!\n",
            "================================================================================\n",
            "\n",
            "Refitted SPICE model (participant 0):\n",
            "--------------------------------------------------------------------------------\n",
            "value_reward_chosen[t+1] = -0.0145 1 + -0.0644 value_reward_chosen[t] + 0.0615 contr_diff + 0.0114 reward + -0.0942 value_reward_chosen^2 + 0.0131 value_reward_chosen*contr_diff + 0.0503 value_reward_chosen*reward + 0.0638 contr_diff^2 + -0.0365 contr_diff*reward + 0.0359 reward^2 \n",
            "value_reward_not_chosen[t+1] = -0.0361 1 + -0.0882 value_reward_not_chosen[t] + 0.029 contr_diff + 0.0047 reward + -0.0956 value_reward_not_chosen^2 + -0.0424 value_reward_not_chosen*contr_diff + 0.0717 value_reward_not_chosen*reward + 0.0258 contr_diff^2 + -0.0306 contr_diff*reward + -0.0624 reward^2 \n",
            "value_choice_chosen[t+1] = 0.0895 1 + 0.0276 value_choice_chosen[t] + -0.0803 contr_diff + -0.0169 value_choice_chosen^2 + 0.0483 value_choice_chosen*contr_diff + 0.0954 contr_diff^2 \n",
            "value_choice_not_chosen[t+1] = -0.0788 1 + -0.0961 value_choice_not_chosen[t] + -0.0053 contr_diff + -0.0974 value_choice_not_chosen^2 + -0.0544 value_choice_not_chosen*contr_diff + -0.089 contr_diff^2 \n",
            "beta(value_reward) = 1.6764\n",
            "beta(value_choice) = 1.1992\n",
            "--------------------------------------------------------------------------------\n",
            "\n",
            "RNN training finished.\n",
            "Training took 4.45 seconds.\n",
            "Saving SPICE model to ../params/augustat2025/spice_augustat2025.pkl...\n",
            "================================================================================\n",
            "\n",
            "Training complete!\n",
            "\n",
            "Example SPICE model (participant 0):\n",
            "--------------------------------------------------------------------------------\n",
            "value_reward_chosen[t+1] = -0.0145 1 + -0.0644 value_reward_chosen[t] + 0.0615 contr_diff + 0.0114 reward + -0.0942 value_reward_chosen^2 + 0.0131 value_reward_chosen*contr_diff + 0.0503 value_reward_chosen*reward + 0.0638 contr_diff^2 + -0.0365 contr_diff*reward + 0.0359 reward^2 \n",
            "value_reward_not_chosen[t+1] = -0.0361 1 + -0.0882 value_reward_not_chosen[t] + 0.029 contr_diff + 0.0047 reward + -0.0956 value_reward_not_chosen^2 + -0.0424 value_reward_not_chosen*contr_diff + 0.0717 value_reward_not_chosen*reward + 0.0258 contr_diff^2 + -0.0306 contr_diff*reward + -0.0624 reward^2 \n",
            "value_choice_chosen[t+1] = 0.0895 1 + 0.0276 value_choice_chosen[t] + -0.0803 contr_diff + -0.0169 value_choice_chosen^2 + 0.0483 value_choice_chosen*contr_diff + 0.0954 contr_diff^2 \n",
            "value_choice_not_chosen[t+1] = -0.0788 1 + -0.0961 value_choice_not_chosen[t] + -0.0053 contr_diff + -0.0974 value_choice_not_chosen^2 + -0.0544 value_choice_not_chosen*contr_diff + -0.089 contr_diff^2 \n",
            "beta(value_reward) = 1.6764\n",
            "beta(value_choice) = 1.1992\n",
            "--------------------------------------------------------------------------------\n"
          ]
        }
      ],
      "source": [
        "estimator = SpiceEstimator(\n",
        "        # model paramaeters\n",
        "        rnn_class=SPICERNN,\n",
        "        spice_config=spice_config,\n",
        "        n_actions=2,\n",
        "        n_participants=n_participants,\n",
        "        n_experiments=1,\n",
        "        \n",
        "        # training parameters\n",
        "        epochs=10,\n",
        "        l2_weight_decay=0.01,\n",
        "        sindy_epochs=10,\n",
        "        sindy_threshold=0.1,\n",
        "        sindy_threshold_frequency=100,\n",
        "        sindy_weight=0.01,\n",
        "        sindy_library_polynomial_degree=2,\n",
        "        verbose=True,\n",
        "        save_path_spice='../params/augustat2025/spice_augustat2025.pkl',\n",
        "    )\n",
        "\n",
        "print(f\"\\nStarting training on {estimator.device}...\")\n",
        "print(\"=\" * 80)\n",
        "estimator.fit(dataset.xs, dataset.ys)\n",
        "# estimator.load_spice(args.model)\n",
        "print(\"=\" * 80)\n",
        "print(\"\\nTraining complete!\")\n",
        "\n",
        "# Print example SPICE model for first participant\n",
        "print(\"\\nExample SPICE model (participant 0):\")\n",
        "print(\"-\" * 80)\n",
        "estimator.print_spice_model(participant_id=0)\n",
        "print(\"-\" * 80)"
      ]
    },
    {
      "cell_type": "code",
      "execution_count": null,
      "metadata": {},
      "outputs": [],
      "source": []
    }
  ],
  "metadata": {
    "accelerator": "GPU",
    "colab": {
      "gpuType": "T4",
      "provenance": []
    },
    "kernelspec": {
      "display_name": "spice",
      "language": "python",
      "name": "python3"
    },
    "language_info": {
      "codemirror_mode": {
        "name": "ipython",
        "version": 3
      },
      "file_extension": ".py",
      "mimetype": "text/x-python",
      "name": "python",
      "nbconvert_exporter": "python",
      "pygments_lexer": "ipython3",
      "version": "3.11.13"
    }
  },
  "nbformat": 4,
  "nbformat_minor": 0
}
