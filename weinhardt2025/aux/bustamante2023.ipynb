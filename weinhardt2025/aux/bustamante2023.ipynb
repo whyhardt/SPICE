{
  "cells": [
    {
      "cell_type": "code",
      "execution_count": 1,
      "metadata": {
        "colab": {
          "base_uri": "https://localhost:8080/"
        },
        "id": "tf7jlYw4NA0v",
        "outputId": "0969ca34-675d-422e-cbfb-7387d9bcd8ad"
      },
      "outputs": [],
      "source": [
        "#!git clone https://github.com/whyhardt/SPICE.git"
      ]
    },
    {
      "cell_type": "code",
      "execution_count": 2,
      "metadata": {
        "colab": {
          "base_uri": "https://localhost:8080/",
          "height": 1000
        },
        "id": "oXIbg826NS5i",
        "outputId": "3825864a-cb2d-4ad5-f2e5-79a4e81dfc3e"
      },
      "outputs": [],
      "source": [
        "# !pip install -e SPICE"
      ]
    },
    {
      "cell_type": "code",
      "execution_count": 2,
      "metadata": {
        "id": "f0uVlABYznR5"
      },
      "outputs": [],
      "source": [
        "import pandas as pd\n",
        "import numpy as np\n",
        "from typing import Dict, List, Tuple\n",
        "import matplotlib.pyplot as plt\n",
        "\n",
        "from spice.estimator import SpiceEstimator\n",
        "from spice.resources.spice_utils import SpiceConfig\n",
        "from spice.utils.convert_dataset import convert_dataset\n",
        "from spice.resources.rnn import BaseRNN\n",
        "\n",
        "# For custom RNN\n",
        "import torch\n",
        "import torch.nn as nn"
      ]
    },
    {
      "cell_type": "markdown",
      "metadata": {},
      "source": [
        "Let's load the data first with the `convert_dataset` method. This method returns a `SpiceDataset` object which we can use right away "
      ]
    },
    {
      "cell_type": "code",
      "execution_count": null,
      "metadata": {},
      "outputs": [],
      "source": [
        "import pandas as pd\n",
        "\n",
        "df = pd.read_csv('../data/bustamante2023/bustamante2023.csv')\n",
        "df['decision'] = df['decision'].replace({'stay': 0, 'exit': 1})\n",
        "df['decision_duration'] = df['decision'].replace({'stay': 2, 'exit': 8.333})\n",
        "df['harvest_duration'] = (df['choice_duration'] + df['harvest_duration'])/1000\n",
        "df['travel_duration'] = df['travel_duration']/1000\n",
        "df.to_csv('../data/bustamante2023/bustamante2023_processed.csv', index=False)"
      ]
    },
    {
      "cell_type": "code",
      "execution_count": 21,
      "metadata": {},
      "outputs": [
        {
          "name": "stdout",
          "output_type": "stream",
          "text": [
            "Shape of dataset: torch.Size([4296, 112, 8])\n",
            "Number of participants: 537\n",
            "Number of actions in dataset: 2\n",
            "Number of additional inputs: 1\n"
          ]
        }
      ],
      "source": [
        "# Load your data\n",
        "dataset = convert_dataset(\n",
        "    file = '../data/bustamante2023/bustamante2023_processed.csv',\n",
        "    df_participant_id='subject_id',\n",
        "    df_choice='decision',\n",
        "    df_reward='reward',\n",
        "    df_block='overall_round',\n",
        "    additional_inputs=['decision_duration'],\n",
        "    timeshift_additional_inputs=False,\n",
        "    )\n",
        "\n",
        "# structure of dataset:\n",
        "# dataset has two main attributes: xs -> inputs; ys -> targets (next action)\n",
        "# shape: (n_participants*n_blocks*n_experiments, n_timesteps, features)\n",
        "# features are (n_actions * action, n_actions * reward, n_additional_inputs * additional_input, block_number, experiment_id, participant_id)\n",
        "\n",
        "# in order to set up the participant embedding we have to compute the number of unique participants in our data \n",
        "# to get the number of participants n_participants we do:\n",
        "n_participants = len(dataset.xs[..., -1].unique())\n",
        "\n",
        "print(f\"Shape of dataset: {dataset.xs.shape}\")\n",
        "print(f\"Number of participants: {n_participants}\")\n",
        "n_actions = dataset.ys.shape[-1]\n",
        "print(f\"Number of actions in dataset: {n_actions}\")\n",
        "print(f\"Number of additional inputs: {dataset.xs.shape[-1]-2*n_actions-3}\")"
      ]
    },
    {
      "cell_type": "code",
      "execution_count": 22,
      "metadata": {},
      "outputs": [
        {
          "data": {
            "text/plain": [
              "tensor([[1.0000, 0.0000, 0.7286,    nan, 0.0000, 0.0000, 0.0000, 0.0000],\n",
              "        [1.0000, 0.0000, 0.6610,    nan, 0.0000, 0.0000, 0.0000, 0.0000],\n",
              "        [0.0000, 1.0000,    nan, 0.0492, 1.0000, 0.0000, 0.0000, 0.0000],\n",
              "        [1.0000, 0.0000, 0.7242,    nan, 0.0000, 0.0000, 0.0000, 0.0000],\n",
              "        [1.0000, 0.0000, 0.6174,    nan, 0.0000, 0.0000, 0.0000, 0.0000],\n",
              "        [1.0000, 0.0000, 0.5456,    nan, 0.0000, 0.0000, 0.0000, 0.0000],\n",
              "        [0.0000, 1.0000,    nan, 0.0492, 1.0000, 0.0000, 0.0000, 0.0000],\n",
              "        [1.0000, 0.0000, 0.8390,    nan, 0.0000, 0.0000, 0.0000, 0.0000],\n",
              "        [1.0000, 0.0000, 0.6964,    nan, 0.0000, 0.0000, 0.0000, 0.0000],\n",
              "        [0.0000, 1.0000,    nan, 0.0492, 1.0000, 0.0000, 0.0000, 0.0000]])"
            ]
          },
          "execution_count": 22,
          "metadata": {},
          "output_type": "execute_result"
        }
      ],
      "source": [
        "dataset.xs[0, :10, :]"
      ]
    },
    {
      "cell_type": "markdown",
      "metadata": {},
      "source": [
        "Now we are going to define the configuration for SPICE with a `SpiceConfig` object.\n",
        "\n",
        "The `SpiceConfig` takes as arguments \n",
        "1. `library_setup (dict)`: Defining the variable names of each module.\n",
        "2. `memory_state (dict)`: Defining the memory state variables and their initial values.\n",
        "3. `states_in_logit (list)`: Defining which of the memory state variables are used later for the logit computation. This is necessary for some background processes.  "
      ]
    },
    {
      "cell_type": "code",
      "execution_count": 40,
      "metadata": {},
      "outputs": [],
      "source": [
        "spice_config = SpiceConfig(\n",
        "    library_setup={\n",
        "        'value_stay': ['reward', 'decision_duration', 'value_stay'],\n",
        "        'value_exit': ['reward', 'decision_duration', 'value_exit'],\n",
        "    },\n",
        "    \n",
        "    memory_state={\n",
        "            'value': 0.5,\n",
        "        }\n",
        ")"
      ]
    },
    {
      "cell_type": "markdown",
      "metadata": {},
      "source": [
        "And now we are going to define the SPICE model which is a child of the `BaseRNN` and `torch.nn.Module` class and takes as required arguments:\n",
        "1. `spice_config (SpiceConfig)`: previously defined SpiceConfig object\n",
        "2. `n_actions (int)`: number of possible actions in your dataset (including non-displayed ones if applicable).\n",
        "3. `n_participants (int)`: number of participants in your dataset.\n",
        "\n",
        "As usual for a `torch.nn.Module` we have to define at least the `__init__` method and the `forward` method.\n",
        "The `forward` method gets called when computing a forward pass through the model and takes as inputs `(inputs (SpiceDataset.xs), prev_state (dict, default: None), batch_first (bool, default: False))` and returns `(logits (torch.Tensor, shape: (n_participants*n_blocks*n_experiments, timesteps, n_actions)), updated_state (dict))`. Two necessary method calls inside the forward pass are:\n",
        "1. `self.init_forward_pass(inputs, prev_state, batch_first) -> SpiceSignals`: returns a `SpiceSignals` object which carries all relevant information already processed.\n",
        "2. `self.post_forward_pass(SpiceSignals, batch_first) -> SpiceSignals`: does some re-arranging of the logits to adhere to `batch_first`."
      ]
    },
    {
      "cell_type": "code",
      "execution_count": 49,
      "metadata": {
        "id": "z0kOR2Qgz0FZ"
      },
      "outputs": [],
      "source": [
        "class SPICERNN(BaseRNN):\n",
        "    \n",
        "    def __init__(self, spice_config, n_participants, **kwargs):\n",
        "        super().__init__(n_actions=2, spice_config=spice_config, n_participants=n_participants, embedding_size=32)\n",
        "        \n",
        "        # participant embedding\n",
        "        self.participant_embedding = self.setup_embedding(num_embeddings=n_participants, embedding_size=self.embedding_size, dropout=0.)\n",
        "        \n",
        "        # scaling factor (inverse noise temperature) for each participant for the values which are handled by an hard-coded equation\n",
        "        self.betas['value'] = self.setup_constant(embedding_size=self.embedding_size)\n",
        "        \n",
        "        # set up the submodules\n",
        "        self.submodules_rnn['value_stay'] = self.setup_module(input_size=3+self.embedding_size)\n",
        "        self.submodules_rnn['value_exit'] = self.setup_module(input_size=3+self.embedding_size)\n",
        "        \n",
        "    def forward(self, inputs, prev_state, batch_first=False):\n",
        "        \n",
        "        spice_signals = self.init_forward_pass(inputs, prev_state, batch_first)\n",
        "        \n",
        "        decision_duration = spice_signals.additional_inputs[..., 0].unsqueeze(-1).repeat(1, 1, self.n_actions)\n",
        "        decision_duration = torch.where(decision_duration==0, 0.240, decision_duration)\n",
        "        rewards_chosen = (spice_signals.actions * spice_signals.rewards.nan_to_num(0)).sum(dim=-1, keepdim=True).repeat(1, 1, self.n_actions)\n",
        "        \n",
        "        # time-invariant participant features\n",
        "        participant_embeddings = self.participant_embedding(spice_signals.participant_ids)\n",
        "        beta_reward = self.betas['value'](participant_embeddings)\n",
        "        mask_stay = torch.tensor((1,0)).reshape(1, 1, self.n_actions).repeat(rewards_chosen.shape[0], rewards_chosen.shape[1], 1)\n",
        "        mask_exit = torch.tensor((0,1)).reshape(1, 1, self.n_actions).repeat(rewards_chosen.shape[0], rewards_chosen.shape[1], 1)\n",
        "        \n",
        "        for timestep in spice_signals.timesteps:\n",
        "            \n",
        "            value_stay = self.state['value'][..., 0][:, None].repeat(1, 2)\n",
        "            value_exit = self.state['value'][..., 1][:, None].repeat(1, 2)\n",
        "            \n",
        "            # update chosen value\n",
        "            self.call_module(\n",
        "                key_module='value_stay',\n",
        "                key_state='value',\n",
        "                action_mask=mask_stay[timestep],\n",
        "                inputs=(rewards_chosen[timestep], decision_duration[timestep], value_exit),\n",
        "                participant_index=spice_signals.participant_ids,\n",
        "                participant_embedding=participant_embeddings,\n",
        "                activation_rnn=torch.nn.functional.sigmoid,\n",
        "            )\n",
        "            \n",
        "            # update not chosen value\n",
        "            self.call_module(\n",
        "                key_module='value_exit',\n",
        "                key_state='value',\n",
        "                action_mask=mask_exit[timestep],\n",
        "                inputs=(rewards_chosen[timestep], decision_duration[timestep], value_stay),\n",
        "                participant_index=spice_signals.participant_ids,\n",
        "                participant_embedding=participant_embeddings,\n",
        "                activation_rnn=torch.nn.functional.sigmoid,\n",
        "            )\n",
        "            \n",
        "            # transform logits from item-space to action-space\n",
        "            spice_signals.logits[timestep] = self.state['value'] * beta_reward\n",
        "            \n",
        "        spice_signals = self.post_forward_pass(spice_signals, batch_first)\n",
        "        \n",
        "        return spice_signals.logits, self.get_state()"
      ]
    },
    {
      "cell_type": "markdown",
      "metadata": {},
      "source": [
        "Let's setup now the `SpiceEstimator` object and fit it to the data!"
      ]
    },
    {
      "cell_type": "code",
      "execution_count": 50,
      "metadata": {
        "colab": {
          "base_uri": "https://localhost:8080/",
          "height": 582
        },
        "id": "3EnmDiUMWq6e",
        "outputId": "e53b1bbd-4173-4d2c-bcdc-15832bc31bd7"
      },
      "outputs": [
        {
          "name": "stdout",
          "output_type": "stream",
          "text": [
            "\n",
            "Starting training on cpu...\n",
            "================================================================================\n",
            "\n",
            "Training the RNN...\n",
            "Epoch 10/10 --- L(Train): 0.6422949; Time: 3.61s; Convergence: 1.18e-02\n",
            "Maximum number of training epochs reached.\n",
            "Model did not converge yet.\n",
            "================================================================================\n",
            "Starting second stage SINDy fitting (threshold=0, single model)\n",
            "================================================================================\n",
            "SINDy Stage 2 - Epoch 10/10 --- L(Train): 0.0014354; Time: 0.18s\n",
            "================================================================================\n",
            "Second stage SINDy fitting complete!\n",
            "================================================================================\n",
            "\n",
            "Refitted SPICE model (participant 0):\n",
            "--------------------------------------------------------------------------------\n",
            "value_stay[t+1] = 0.006 1 + 0.0038 value_stay[t] + 0.0094 reward + 0.0046 decision_duration + 0.0065 value_stay[t] + 0.0036 value_stay*reward + 0.0024 value_stay*decision_duration + 0.0012 value_stay*value_stay + 0.0124 reward^2 + 0.0072 reward*decision_duration + 0.012 reward*value_stay + 0.0016 decision_duration^2 + 0.0055 decision_duration*value_stay + 0.0087 value_stay^2 \n",
            "value_exit[t+1] = -0.0046 1 + -0.0048 value_exit[t] + -0.0018 reward + -0.0076 decision_duration + -0.0044 value_exit[t] + -0.0048 value_exit^2 + -0.0013 value_exit*reward + -0.0093 value_exit*decision_duration + -0.0037 value_exit*value_exit + -0.0035 reward^2 + -0.0039 reward*decision_duration + -0.0021 reward*value_exit + 0.0019 decision_duration^2 + -0.0081 decision_duration*value_exit + -0.005 value_exit^2 \n",
            "beta(value) = 1.0974\n",
            "--------------------------------------------------------------------------------\n",
            "\n",
            "RNN training finished.\n",
            "Training took 39.15 seconds.\n",
            "Saving SPICE model to ../params/bustamante2023/spice_bustamante2023.pkl...\n",
            "================================================================================\n",
            "\n",
            "Training complete!\n",
            "\n",
            "Example SPICE model (participant 0):\n",
            "--------------------------------------------------------------------------------\n",
            "value_stay[t+1] = 0.006 1 + 0.0038 value_stay[t] + 0.0094 reward + 0.0046 decision_duration + 0.0065 value_stay[t] + 0.0036 value_stay*reward + 0.0024 value_stay*decision_duration + 0.0012 value_stay*value_stay + 0.0124 reward^2 + 0.0072 reward*decision_duration + 0.012 reward*value_stay + 0.0016 decision_duration^2 + 0.0055 decision_duration*value_stay + 0.0087 value_stay^2 \n",
            "value_exit[t+1] = -0.0046 1 + -0.0048 value_exit[t] + -0.0018 reward + -0.0076 decision_duration + -0.0044 value_exit[t] + -0.0048 value_exit^2 + -0.0013 value_exit*reward + -0.0093 value_exit*decision_duration + -0.0037 value_exit*value_exit + -0.0035 reward^2 + -0.0039 reward*decision_duration + -0.0021 reward*value_exit + 0.0019 decision_duration^2 + -0.0081 decision_duration*value_exit + -0.005 value_exit^2 \n",
            "beta(value) = 1.0974\n",
            "--------------------------------------------------------------------------------\n"
          ]
        }
      ],
      "source": [
        "estimator = SpiceEstimator(\n",
        "        # model paramaeters\n",
        "        rnn_class=SPICERNN,\n",
        "        spice_config=spice_config,\n",
        "        n_actions=2,\n",
        "        n_participants=n_participants,\n",
        "        n_experiments=1,\n",
        "        \n",
        "        # training parameters\n",
        "        epochs=10,  # 1000\n",
        "        l2_weight_decay=0.01,\n",
        "        sindy_epochs=10,  # 5000\n",
        "        sindy_threshold=0.1,\n",
        "        sindy_threshold_frequency=100,\n",
        "        sindy_weight=0.01,\n",
        "        sindy_library_polynomial_degree=2,\n",
        "        verbose=True,\n",
        "        save_path_spice='../params/bustamante2023/spice_bustamante2023.pkl',\n",
        "    )\n",
        "\n",
        "print(f\"\\nStarting training on {estimator.device}...\")\n",
        "print(\"=\" * 80)\n",
        "estimator.fit(dataset.xs, dataset.ys)\n",
        "# estimator.load_spice(args.model)\n",
        "print(\"=\" * 80)\n",
        "print(\"\\nTraining complete!\")\n",
        "\n",
        "# Print example SPICE model for first participant\n",
        "print(\"\\nExample SPICE model (participant 0):\")\n",
        "print(\"-\" * 80)\n",
        "estimator.print_spice_model(participant_id=0)\n",
        "print(\"-\" * 80)"
      ]
    },
    {
      "cell_type": "code",
      "execution_count": null,
      "metadata": {},
      "outputs": [],
      "source": []
    }
  ],
  "metadata": {
    "accelerator": "GPU",
    "colab": {
      "gpuType": "T4",
      "provenance": []
    },
    "kernelspec": {
      "display_name": "spice",
      "language": "python",
      "name": "python3"
    },
    "language_info": {
      "codemirror_mode": {
        "name": "ipython",
        "version": 3
      },
      "file_extension": ".py",
      "mimetype": "text/x-python",
      "name": "python",
      "nbconvert_exporter": "python",
      "pygments_lexer": "ipython3",
      "version": "3.11.13"
    }
  },
  "nbformat": 4,
  "nbformat_minor": 0
}
