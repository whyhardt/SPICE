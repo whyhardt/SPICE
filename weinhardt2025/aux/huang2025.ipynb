{
  "cells": [
    {
      "cell_type": "code",
      "execution_count": 1,
      "metadata": {
        "colab": {
          "base_uri": "https://localhost:8080/"
        },
        "id": "tf7jlYw4NA0v",
        "outputId": "0969ca34-675d-422e-cbfb-7387d9bcd8ad"
      },
      "outputs": [],
      "source": [
        "#!git clone https://github.com/whyhardt/SPICE.git"
      ]
    },
    {
      "cell_type": "code",
      "execution_count": 2,
      "metadata": {
        "colab": {
          "base_uri": "https://localhost:8080/",
          "height": 1000
        },
        "id": "oXIbg826NS5i",
        "outputId": "3825864a-cb2d-4ad5-f2e5-79a4e81dfc3e"
      },
      "outputs": [],
      "source": [
        "# !pip install -e SPICE"
      ]
    },
    {
      "cell_type": "code",
      "execution_count": 3,
      "metadata": {
        "id": "f0uVlABYznR5"
      },
      "outputs": [],
      "source": [
        "import pandas as pd\n",
        "import numpy as np\n",
        "from typing import Dict, List, Tuple\n",
        "import matplotlib.pyplot as plt\n",
        "\n",
        "from spice.estimator import SpiceEstimator\n",
        "from spice.resources.spice_utils import SpiceConfig\n",
        "from spice.utils.convert_dataset import convert_dataset\n",
        "from spice.resources.rnn import BaseRNN\n",
        "\n",
        "# For custom RNN\n",
        "import torch\n",
        "import torch.nn as nn"
      ]
    },
    {
      "cell_type": "markdown",
      "metadata": {},
      "source": [
        "Let's load the data first with the `convert_dataset` method. This method returns a `SpiceDataset` object which we can use right away "
      ]
    },
    {
      "cell_type": "code",
      "execution_count": 4,
      "metadata": {},
      "outputs": [],
      "source": [
        "# Load your hover data\n",
        "dataset = convert_dataset(\n",
        "    file='../data/huang2025/huang2025.csv',\n",
        "    df_participant_id = \"subject_ID\",\n",
        "    df_block ='currentRound',\n",
        "    df_choice = 'hover_tile_index',\n",
        "    df_reward = 'score',\n",
        "    additional_inputs = ['partner_tile_index', 'sample_number']\n",
        "    )[0]\n",
        "\n",
        "# structure of dataset:\n",
        "# dataset has two main attributes: xs -> inputs; ys -> targets (next action)\n",
        "# shape: (n_participants*n_blocks*n_experiments, n_timesteps, features)\n",
        "# features are (n_actions * action, n_actions * reward, n_additional_inputs * additional_input, block_number, experiment_id, participant_id)\n",
        "\n",
        "\n",
        "# in order to set up the participant embedding we have to compute the number of unique participants in our data \n",
        "# to get the number of participants n_participants we do:\n",
        "n_participants = len(dataset.xs[..., -1].unique())"
      ]
    },
    {
      "cell_type": "markdown",
      "metadata": {},
      "source": [
        "Now we are going to define the configuration for SPICE with a `SpiceConfig` object.\n",
        "\n",
        "The `SpiceConfig` takes as arguments \n",
        "1. `library_setup (dict)`: Defining the variable names of each module.\n",
        "2. `memory_state (dict)`: Defining the memory state variables and their initial values.\n",
        "3. `states_in_logit (list)`: Defining which of the memory state variables are used later for the logit computation. This is necessary for some background processes.  "
      ]
    },
    {
      "cell_type": "code",
      "execution_count": 5,
      "metadata": {},
      "outputs": [],
      "source": [
        "spice_config = SpiceConfig(\n",
        "    library_setup={\n",
        "        'visited_self': [],\n",
        "        'visited_partner': [],\n",
        "        'not_visited': [],\n",
        "    },\n",
        "    \n",
        "    memory_state={\n",
        "        'value_tile': 0,\n",
        "    },\n",
        ")"
      ]
    },
    {
      "cell_type": "markdown",
      "metadata": {},
      "source": [
        "And now we are going to define the SPICE model which is a child of the `BaseRNN` and `torch.nn.Module` class and takes as required arguments:\n",
        "1. `spice_config (SpiceConfig)`: previously defined SpiceConfig object\n",
        "2. `n_actions (int)`: number of possible actions in your dataset (including non-displayed ones if applicable).\n",
        "3. `n_participants (int)`: number of participants in your dataset.\n",
        "\n",
        "As usual for a `torch.nn.Module` we have to define at least the `__init__` method and the `forward` method.\n",
        "The `forward` method gets called when computing a forward pass through the model and takes as inputs `(inputs, prev_state (SpiceDataset.xs), (dict, default: None), batch_first (bool, default: False))` and returns `(logits (torch.Tensor, shape: (n_participants*n_blocks*n_experiments, timesteps, n_actions)), updated_state (dict))`. Two necessary method calls inside the forward pass are:\n",
        "1. `self.init_forward_pass(inputs, prev_state, batch_first) -> SpiceSignals`: returns a `SpiceSignals` object which carries all relevant information already processed.\n",
        "2. `self.post_forward_pass(SpiceSignals, batch_first) -> SpiceSignals`: does some re-arranging of the logits to adhere to `batch_first`."
      ]
    },
    {
      "cell_type": "code",
      "execution_count": 6,
      "metadata": {
        "id": "z0kOR2Qgz0FZ"
      },
      "outputs": [],
      "source": [
        "class HoverRNN(BaseRNN):\n",
        "    \"\"\"\n",
        "    Custom RNN for modeling hover behavior.\n",
        "\n",
        "    CRITICAL: Must match the interface expected by SPICE!\n",
        "    The RNN should:\n",
        "    - Take input of shape (batch, seq_len, input_size)\n",
        "    - Return output of shape (batch, seq_len, output_size)\n",
        "    - Optionally return hidden states\n",
        "    \"\"\"\n",
        "\n",
        "    def __init__(self, spice_config, n_actions, n_participants, **kwargs):\n",
        "        super(HoverRNN, self).__init__(\n",
        "            spice_config=spice_config,\n",
        "            n_actions=n_actions, \n",
        "            n_participants=n_participants, \n",
        "            embedding_size=32,\n",
        "            sindy_polynomial_degree=2,\n",
        "            )\n",
        "\n",
        "        self.participant_embedding = self.setup_embedding(n_participants, self.embedding_size, dropout=0.)\n",
        "        \n",
        "        self.betas['value_tile'] = self.setup_constant(embedding_size=self.embedding_size)\n",
        "\n",
        "        # Value learning module (slow updates)\n",
        "        # Can use recent reward history to modulate learning\n",
        "        self.submodules_rnn['visited_self'] = self.setup_module(input_size=self.embedding_size)\n",
        "        self.submodules_rnn['visited_partner'] = self.setup_module(input_size=self.embedding_size)\n",
        "        self.submodules_rnn['not_visited'] = self.setup_module(input_size=self.embedding_size)\n",
        "\n",
        "    def forward(self, inputs, prev_state=None, batch_first=False):\n",
        "        \"\"\"\n",
        "        Forward pass.\n",
        "\n",
        "        Args:\n",
        "            inputs: Tuple containing (actions, rewards, additional_inputs, participant_ids)\n",
        "            prev_state: Optional previous hidden state\n",
        "            batch_first: Whether first dimension is batch (True) or timesteps (False)\n",
        "\n",
        "        Returns:\n",
        "            logits: (batch, seq_len, n_actions) - Action logits for each tile\n",
        "            state: Updated hidden state dictionary\n",
        "        \"\"\"\n",
        "\n",
        "        # Initialize inputs, outputs, and timesteps\n",
        "        spice_signals = self.init_forward_pass(inputs, prev_state, batch_first)\n",
        "\n",
        "        nan_mask = spice_signals.actions.isnan()\n",
        "        tiles_visited_partner = spice_signals.additional_inputs[..., 0].nan_to_num(0).long()\n",
        "        actions_partner = torch.nn.functional.one_hot(tiles_visited_partner, num_classes=self.n_actions)\n",
        "        actions_partner = torch.where(nan_mask, torch.nan, actions_partner)\n",
        "        actions_not_visited = 1 - (spice_signals.actions + actions_partner)\n",
        "        \n",
        "        # Get participant embeddings\n",
        "        participant_embedding = self.participant_embedding(spice_signals.participant_ids)\n",
        "        beta = self.betas['value_tile'](participant_embedding)\n",
        "        \n",
        "        # Main loop: process each timestep\n",
        "        for timestep in spice_signals.timesteps:\n",
        "            \n",
        "            # Update value for tile visited by self\n",
        "            self.call_module(\n",
        "                key_module='visited_self',\n",
        "                key_state=f'value_tile',\n",
        "                action_mask=spice_signals.actions[timestep],\n",
        "                inputs=None,\n",
        "                participant_embedding=participant_embedding,\n",
        "                participant_index=spice_signals.participant_ids,\n",
        "                activation_rnn=torch.nn.functional.sigmoid,\n",
        "            )\n",
        "            \n",
        "            # Update value for tile visited by partner\n",
        "            self.call_module(\n",
        "                key_module='visited_partner',\n",
        "                key_state=f'value_tile',\n",
        "                action_mask=actions_partner[timestep],\n",
        "                inputs=None,\n",
        "                participant_embedding=participant_embedding,\n",
        "                participant_index=spice_signals.participant_ids,\n",
        "                activation_rnn=torch.nn.functional.sigmoid,\n",
        "            )\n",
        "            \n",
        "            self.call_module(\n",
        "                key_module='not_visited',\n",
        "                key_state='value_tile',\n",
        "                action_mask=actions_not_visited[timestep],\n",
        "                inputs=None,\n",
        "                participant_embedding=participant_embedding,\n",
        "                participant_index=spice_signals.participant_ids,\n",
        "                activation_rnn=torch.nn.functional.sigmoid,\n",
        "            )\n",
        "            \n",
        "            # Apply beta parameters for each tile and compute logits\n",
        "            spice_signals.logits[timestep] = self.state['value_tile'] * beta\n",
        "        \n",
        "        # Post-process the forward pass\n",
        "        spice_signals = self.post_forward_pass(spice_signals, batch_first)\n",
        "\n",
        "        return spice_signals.logits, self.get_state()"
      ]
    },
    {
      "cell_type": "markdown",
      "metadata": {},
      "source": [
        "Let's setup now the `SpiceEstimator` object and fit it to the data!"
      ]
    },
    {
      "cell_type": "code",
      "execution_count": 7,
      "metadata": {
        "colab": {
          "base_uri": "https://localhost:8080/",
          "height": 582
        },
        "id": "3EnmDiUMWq6e",
        "outputId": "e53b1bbd-4173-4d2c-bcdc-15832bc31bd7"
      },
      "outputs": [
        {
          "name": "stdout",
          "output_type": "stream",
          "text": [
            "\n",
            "Starting training on cpu...\n",
            "================================================================================\n",
            "\n",
            "Training the RNN...\n",
            "Epoch 10/10 --- L(Train): 2.8993702; Time: 4.14s; Convergence: 2.80e-02\n",
            "Maximum number of training epochs reached.\n",
            "Model did not converge yet.\n",
            "================================================================================\n",
            "Starting second stage SINDy fitting (threshold=0, single model)\n",
            "================================================================================\n",
            "SINDy Stage 2 - Epoch 10/10 --- L(Train): 0.0018842; Time: 0.37s\n",
            "================================================================================\n",
            "Second stage SINDy fitting complete!\n",
            "================================================================================\n",
            "Saving SPICE model to ../params/huang2025/spice_huang2025.pkl...\n",
            "================================================================================\n",
            "\n",
            "Training complete!\n",
            "\n",
            "Example SPICE model (participant 0):\n",
            "--------------------------------------------------------------------------------\n",
            "visited_self[t+1] = 0.0452 1 + -0.0222 visited_self[t] + -0.0415 visited_self^2 \n",
            "visited_partner[t+1] = 0.035 1 + -0.0191 visited_partner[t] + -0.0345 visited_partner^2 \n",
            "not_visited[t+1] = 0.0416 1 + -0.0696 not_visited[t] + -0.0825 not_visited^2 \n",
            "beta(value_tile) = 1.8157\n",
            "--------------------------------------------------------------------------------\n"
          ]
        }
      ],
      "source": [
        "path_spice = '../params/huang2025/spice_huang2025.pkl'\n",
        "\n",
        "estimator = SpiceEstimator(\n",
        "        \n",
        "        # SPICE parameters\n",
        "        rnn_class=HoverRNN,\n",
        "        spice_config=spice_config,\n",
        "        n_actions=16,\n",
        "        n_participants=n_participants,\n",
        "        \n",
        "        # RNN training parameters\n",
        "        epochs=10,\n",
        "        learning_rate=1e-2,\n",
        "        sindy_weight=0.1,\n",
        "        \n",
        "        # SINDy training parameters\n",
        "        sindy_library_polynomial_degree=2,\n",
        "        sindy_threshold_frequency=100,\n",
        "        sindy_threshold=0.01,\n",
        "        sindy_epochs=10,\n",
        "        \n",
        "        save_path_spice=path_spice,\n",
        "    )\n",
        "\n",
        "print(f\"\\nStarting training on {estimator.device}...\")\n",
        "print(\"=\" * 80)\n",
        "# estimator.load_spice(args.model)\n",
        "estimator.fit(dataset.xs, dataset.ys)\n",
        "print(\"=\" * 80)\n",
        "print(\"\\nTraining complete!\")\n",
        "\n",
        "# Print example SPICE model for first participant\n",
        "print(\"\\nExample SPICE model (participant 0):\")\n",
        "print(\"-\" * 80)\n",
        "estimator.print_spice_model(participant_id=0)\n",
        "print(\"-\" * 80)"
      ]
    },
    {
      "cell_type": "code",
      "execution_count": null,
      "metadata": {},
      "outputs": [],
      "source": []
    }
  ],
  "metadata": {
    "accelerator": "GPU",
    "colab": {
      "gpuType": "T4",
      "provenance": []
    },
    "kernelspec": {
      "display_name": "spice",
      "language": "python",
      "name": "python3"
    },
    "language_info": {
      "codemirror_mode": {
        "name": "ipython",
        "version": 3
      },
      "file_extension": ".py",
      "mimetype": "text/x-python",
      "name": "python",
      "nbconvert_exporter": "python",
      "pygments_lexer": "ipython3",
      "version": "3.11.13"
    }
  },
  "nbformat": 4,
  "nbformat_minor": 0
}
